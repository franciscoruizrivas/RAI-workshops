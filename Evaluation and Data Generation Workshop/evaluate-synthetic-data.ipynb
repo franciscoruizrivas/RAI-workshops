{
 "cells": [
  {
   "cell_type": "markdown",
   "metadata": {},
   "source": [
    "# Generate Synthetic Data and Evaluate the Dataset\n",
    "\n",
    "Contoso Zoo is developing an AI-powered smart guide app to enhance visitors' experiences. The app aims to answer questions about wildlife. To evaluate the responses from the app, we need to create a comprehensive synthetic question-answer dataset that covers various aspects of wildlife, including animal behavior, habitat preferences, and dietary needs. Once we have the synthetic dataset, we'll need to evaluate the model's responses. <br>\n",
    "\n",
    "In this exercise, you will generate a synthetic question-answer dataset for the Contoso Zoo app. This dataset will not only include standard question-answer pairs but also incorporate conversation starters to simulate contextually relevant interactions. These conversation starters will allow for pre-specified, repeatable user turns in a conversation, which is crucial for evaluating the AI's performance across different scenarios.\n",
    "\n",
    "Afterwards, we'll evaluate the model's responsese for fluency, coherence, and harm (i.e. the Risk & Safety evaluators).\n"
   ]
  },
  {
   "cell_type": "markdown",
   "metadata": {},
   "source": [
    "## Add environment variables to the .env file\n",
    "\n",
    "In the root of the **Evaluation and Data Generation Workshop** folder is an `.env` file. Within the `.env` file, fill in the values for the environment variables. You can locate the values for each environment variable in the following locations of the [Azure AI Foundry](https://ai.azure.com) portal:\n",
    "\n",
    "- `AZURE_SUBSCRIPTION_ID` - On the **Overview** page of your project within **Project details**.\n",
    "- `AZURE_AI_PROJECT_NAME` - At the top of the **Overview** page for your project.\n",
    "- `AZURE_OPENAI_RESOURCE_GROUP` - On the **Overview** page of the **Management Center** within **Project properties**.\n",
    "- `AZURE_OPENAI_SERVICE` - On the **Overview** page of your project in the **Included capabilities** tab for **Azure OpenAI Service**.\n",
    "- `AZURE_OPENAI_API_VERSION` - On the [API version lifecycle](https://learn.microsoft.com/azure/ai-services/openai/api-version-deprecation#latest-ga-api-release) webpage within the **Latest GA API release** section.\n",
    "- `AZURE_OPENAI_ENDPOINT` - On the **Details** tab of your model deployment within **Endpoint** (i.e. **Target URI**)\n",
    "- `AZURE_OPENAI_DEPLOYMENT_NAME` -  On the **Details** tab of your model deployment within **Deployment info**."
   ]
  },
  {
   "cell_type": "markdown",
   "metadata": {},
   "source": [
    "# Sign in to Azure\n",
    "\n",
    "As a security best practice, we'll use [keyless authentication](https://learn.microsoft.com/azure/developer/ai/keyless-connections?tabs=csharp%2Cazure-cli) to authenticate to Azure OpenAI with Microsoft Entra ID. Before you can do so, you'll first need to install the **Azure CLI** per the [installation instructions](https://learn.microsoft.com/cli/azure/install-azure-cli) for your operating system.\n",
    "\n",
    "Next, open a terminal and run `az login` to sign in to your Azure account."
   ]
  },
  {
   "cell_type": "markdown",
   "metadata": {},
   "source": [
    "## Install packages\n",
    "\n",
    "To begin, we'll install the packages that are necessary for completing the simulation. The `Simulator` class is within the `simulator` package of the Azure AI Evaluation SDK. With security in mind, we'll authenticate with Azure services using `azure-identity`. And finally, since we'll be interacting with OpenAI's services via Azure, the `openai` package will come in handy!"
   ]
  },
  {
   "cell_type": "code",
   "execution_count": 1,
   "metadata": {},
   "outputs": [
    {
     "name": "stdout",
     "output_type": "stream",
     "text": [
      "Defaulting to user installation because normal site-packages is not writeable\n",
      "Requirement already satisfied: azure-ai-evaluation in /home/vscode/.local/lib/python3.11/site-packages (1.9.0)\n",
      "Requirement already satisfied: azure-identity in /home/vscode/.local/lib/python3.11/site-packages (1.23.0)\n",
      "Requirement already satisfied: openai in /home/vscode/.local/lib/python3.11/site-packages (1.93.0)\n",
      "Requirement already satisfied: promptflow-devkit>=1.17.1 in /home/vscode/.local/lib/python3.11/site-packages (from azure-ai-evaluation) (1.18.1)\n",
      "Requirement already satisfied: promptflow-core>=1.17.1 in /home/vscode/.local/lib/python3.11/site-packages (from azure-ai-evaluation) (1.18.1)\n",
      "Requirement already satisfied: pyjwt>=2.8.0 in /home/vscode/.local/lib/python3.11/site-packages (from azure-ai-evaluation) (2.10.1)\n",
      "Requirement already satisfied: azure-core>=1.30.2 in /home/vscode/.local/lib/python3.11/site-packages (from azure-ai-evaluation) (1.35.0)\n",
      "Requirement already satisfied: nltk>=3.9.1 in /home/vscode/.local/lib/python3.11/site-packages (from azure-ai-evaluation) (3.9.1)\n",
      "Requirement already satisfied: azure-storage-blob>=12.10.0 in /home/vscode/.local/lib/python3.11/site-packages (from azure-ai-evaluation) (12.25.1)\n",
      "Requirement already satisfied: httpx>=0.25.1 in /home/vscode/.local/lib/python3.11/site-packages (from azure-ai-evaluation) (0.28.1)\n",
      "Requirement already satisfied: pandas<3.0.0,>=2.1.2 in /home/vscode/.local/lib/python3.11/site-packages (from azure-ai-evaluation) (2.3.0)\n",
      "Requirement already satisfied: ruamel.yaml<1.0.0,>=0.17.10 in /home/vscode/.local/lib/python3.11/site-packages (from azure-ai-evaluation) (0.18.14)\n",
      "Requirement already satisfied: msrest>=0.6.21 in /home/vscode/.local/lib/python3.11/site-packages (from azure-ai-evaluation) (0.7.1)\n",
      "Requirement already satisfied: Jinja2>=3.1.6 in /home/vscode/.local/lib/python3.11/site-packages (from azure-ai-evaluation) (3.1.6)\n",
      "Requirement already satisfied: aiohttp>=3.0 in /home/vscode/.local/lib/python3.11/site-packages (from azure-ai-evaluation) (3.12.13)\n",
      "Requirement already satisfied: cryptography>=2.5 in /home/vscode/.local/lib/python3.11/site-packages (from azure-identity) (45.0.5)\n",
      "Requirement already satisfied: msal>=1.30.0 in /home/vscode/.local/lib/python3.11/site-packages (from azure-identity) (1.32.3)\n",
      "Requirement already satisfied: msal-extensions>=1.2.0 in /home/vscode/.local/lib/python3.11/site-packages (from azure-identity) (1.3.1)\n",
      "Requirement already satisfied: typing-extensions>=4.0.0 in /home/vscode/.local/lib/python3.11/site-packages (from azure-identity) (4.14.0)\n",
      "Requirement already satisfied: anyio<5,>=3.5.0 in /home/vscode/.local/lib/python3.11/site-packages (from openai) (4.9.0)\n",
      "Requirement already satisfied: distro<2,>=1.7.0 in /home/vscode/.local/lib/python3.11/site-packages (from openai) (1.9.0)\n",
      "Requirement already satisfied: jiter<1,>=0.4.0 in /home/vscode/.local/lib/python3.11/site-packages (from openai) (0.10.0)\n",
      "Requirement already satisfied: pydantic<3,>=1.9.0 in /home/vscode/.local/lib/python3.11/site-packages (from openai) (2.11.7)\n",
      "Requirement already satisfied: sniffio in /home/vscode/.local/lib/python3.11/site-packages (from openai) (1.3.1)\n",
      "Requirement already satisfied: tqdm>4 in /home/vscode/.local/lib/python3.11/site-packages (from openai) (4.67.1)\n",
      "Requirement already satisfied: aiohappyeyeballs>=2.5.0 in /home/vscode/.local/lib/python3.11/site-packages (from aiohttp>=3.0->azure-ai-evaluation) (2.6.1)\n",
      "Requirement already satisfied: aiosignal>=1.1.2 in /home/vscode/.local/lib/python3.11/site-packages (from aiohttp>=3.0->azure-ai-evaluation) (1.3.2)\n",
      "Requirement already satisfied: attrs>=17.3.0 in /home/vscode/.local/lib/python3.11/site-packages (from aiohttp>=3.0->azure-ai-evaluation) (25.3.0)\n",
      "Requirement already satisfied: frozenlist>=1.1.1 in /home/vscode/.local/lib/python3.11/site-packages (from aiohttp>=3.0->azure-ai-evaluation) (1.7.0)\n",
      "Requirement already satisfied: multidict<7.0,>=4.5 in /home/vscode/.local/lib/python3.11/site-packages (from aiohttp>=3.0->azure-ai-evaluation) (6.6.3)\n",
      "Requirement already satisfied: propcache>=0.2.0 in /home/vscode/.local/lib/python3.11/site-packages (from aiohttp>=3.0->azure-ai-evaluation) (0.3.2)\n",
      "Requirement already satisfied: yarl<2.0,>=1.17.0 in /home/vscode/.local/lib/python3.11/site-packages (from aiohttp>=3.0->azure-ai-evaluation) (1.20.1)\n",
      "Requirement already satisfied: idna>=2.8 in /home/vscode/.local/lib/python3.11/site-packages (from anyio<5,>=3.5.0->openai) (3.10)\n",
      "Requirement already satisfied: requests>=2.21.0 in /home/vscode/.local/lib/python3.11/site-packages (from azure-core>=1.30.2->azure-ai-evaluation) (2.32.4)\n",
      "Requirement already satisfied: six>=1.11.0 in /home/vscode/.local/lib/python3.11/site-packages (from azure-core>=1.30.2->azure-ai-evaluation) (1.17.0)\n",
      "Requirement already satisfied: isodate>=0.6.1 in /home/vscode/.local/lib/python3.11/site-packages (from azure-storage-blob>=12.10.0->azure-ai-evaluation) (0.7.2)\n",
      "Requirement already satisfied: cffi>=1.14 in /home/vscode/.local/lib/python3.11/site-packages (from cryptography>=2.5->azure-identity) (1.17.1)\n",
      "Requirement already satisfied: certifi in /home/vscode/.local/lib/python3.11/site-packages (from httpx>=0.25.1->azure-ai-evaluation) (2025.6.15)\n",
      "Requirement already satisfied: httpcore==1.* in /home/vscode/.local/lib/python3.11/site-packages (from httpx>=0.25.1->azure-ai-evaluation) (1.0.9)\n",
      "Requirement already satisfied: h11>=0.16 in /home/vscode/.local/lib/python3.11/site-packages (from httpcore==1.*->httpx>=0.25.1->azure-ai-evaluation) (0.16.0)\n",
      "Requirement already satisfied: MarkupSafe>=2.0 in /home/vscode/.local/lib/python3.11/site-packages (from Jinja2>=3.1.6->azure-ai-evaluation) (3.0.2)\n",
      "Requirement already satisfied: requests-oauthlib>=0.5.0 in /home/vscode/.local/lib/python3.11/site-packages (from msrest>=0.6.21->azure-ai-evaluation) (2.0.0)\n",
      "Requirement already satisfied: click in /home/vscode/.local/lib/python3.11/site-packages (from nltk>=3.9.1->azure-ai-evaluation) (8.2.1)\n",
      "Requirement already satisfied: joblib in /home/vscode/.local/lib/python3.11/site-packages (from nltk>=3.9.1->azure-ai-evaluation) (1.5.1)\n",
      "Requirement already satisfied: regex>=2021.8.3 in /home/vscode/.local/lib/python3.11/site-packages (from nltk>=3.9.1->azure-ai-evaluation) (2024.11.6)\n",
      "Requirement already satisfied: numpy>=1.23.2 in /home/vscode/.local/lib/python3.11/site-packages (from pandas<3.0.0,>=2.1.2->azure-ai-evaluation) (2.3.1)\n",
      "Requirement already satisfied: python-dateutil>=2.8.2 in /home/vscode/.local/lib/python3.11/site-packages (from pandas<3.0.0,>=2.1.2->azure-ai-evaluation) (2.9.0.post0)\n",
      "Requirement already satisfied: pytz>=2020.1 in /home/vscode/.local/lib/python3.11/site-packages (from pandas<3.0.0,>=2.1.2->azure-ai-evaluation) (2025.2)\n",
      "Requirement already satisfied: tzdata>=2022.7 in /home/vscode/.local/lib/python3.11/site-packages (from pandas<3.0.0,>=2.1.2->azure-ai-evaluation) (2025.2)\n",
      "Requirement already satisfied: docstring_parser in /home/vscode/.local/lib/python3.11/site-packages (from promptflow-core>=1.17.1->azure-ai-evaluation) (0.16)\n",
      "Requirement already satisfied: fastapi<1.0.0,>=0.109.0 in /home/vscode/.local/lib/python3.11/site-packages (from promptflow-core>=1.17.1->azure-ai-evaluation) (0.115.14)\n",
      "Requirement already satisfied: filetype>=1.2.0 in /home/vscode/.local/lib/python3.11/site-packages (from promptflow-core>=1.17.1->azure-ai-evaluation) (1.2.0)\n",
      "Requirement already satisfied: flask<4.0.0,>=2.2.3 in /home/vscode/.local/lib/python3.11/site-packages (from promptflow-core>=1.17.1->azure-ai-evaluation) (3.1.1)\n",
      "Requirement already satisfied: jsonschema<5.0.0,>=4.0.0 in /home/vscode/.local/lib/python3.11/site-packages (from promptflow-core>=1.17.1->azure-ai-evaluation) (4.24.0)\n",
      "Requirement already satisfied: promptflow-tracing==1.18.1 in /home/vscode/.local/lib/python3.11/site-packages (from promptflow-core>=1.17.1->azure-ai-evaluation) (1.18.1)\n",
      "Requirement already satisfied: psutil in /home/vscode/.local/lib/python3.11/site-packages (from promptflow-core>=1.17.1->azure-ai-evaluation) (7.0.0)\n",
      "Requirement already satisfied: opentelemetry-sdk<2.0.0,>=1.22.0 in /home/vscode/.local/lib/python3.11/site-packages (from promptflow-tracing==1.18.1->promptflow-core>=1.17.1->azure-ai-evaluation) (1.34.1)\n",
      "Requirement already satisfied: tiktoken>=0.4.0 in /home/vscode/.local/lib/python3.11/site-packages (from promptflow-tracing==1.18.1->promptflow-core>=1.17.1->azure-ai-evaluation) (0.9.0)\n",
      "Requirement already satisfied: argcomplete>=3.2.3 in /home/vscode/.local/lib/python3.11/site-packages (from promptflow-devkit>=1.17.1->azure-ai-evaluation) (3.6.2)\n",
      "Requirement already satisfied: azure-monitor-opentelemetry-exporter<2.0.0,>=1.0.0b21 in /home/vscode/.local/lib/python3.11/site-packages (from promptflow-devkit>=1.17.1->azure-ai-evaluation) (1.0.0b39)\n",
      "Requirement already satisfied: colorama<0.5.0,>=0.4.6 in /home/vscode/.local/lib/python3.11/site-packages (from promptflow-devkit>=1.17.1->azure-ai-evaluation) (0.4.6)\n",
      "Requirement already satisfied: filelock<4.0.0,>=3.4.0 in /home/vscode/.local/lib/python3.11/site-packages (from promptflow-devkit>=1.17.1->azure-ai-evaluation) (3.18.0)\n",
      "Requirement already satisfied: flask-cors<7.0.0,>=6.0.0 in /home/vscode/.local/lib/python3.11/site-packages (from promptflow-devkit>=1.17.1->azure-ai-evaluation) (6.0.1)\n",
      "Requirement already satisfied: flask-restx<2.0.0,>=1.2.0 in /home/vscode/.local/lib/python3.11/site-packages (from promptflow-devkit>=1.17.1->azure-ai-evaluation) (1.3.0)\n",
      "Requirement already satisfied: gitpython<4.0.0,>=3.1.24 in /usr/local/lib/python3.11/site-packages (from promptflow-devkit>=1.17.1->azure-ai-evaluation) (3.1.41)\n",
      "Requirement already satisfied: keyring<25.0.0,>=24.2.0 in /home/vscode/.local/lib/python3.11/site-packages (from promptflow-devkit>=1.17.1->azure-ai-evaluation) (24.3.1)\n",
      "Requirement already satisfied: marshmallow<4.0.0,>=3.5 in /home/vscode/.local/lib/python3.11/site-packages (from promptflow-devkit>=1.17.1->azure-ai-evaluation) (3.26.1)\n",
      "Requirement already satisfied: opentelemetry-exporter-otlp-proto-http<2.0.0,>=1.22.0 in /home/vscode/.local/lib/python3.11/site-packages (from promptflow-devkit>=1.17.1->azure-ai-evaluation) (1.34.1)\n",
      "Requirement already satisfied: pillow<11.1.0,>=10.1.0 in /home/vscode/.local/lib/python3.11/site-packages (from promptflow-devkit>=1.17.1->azure-ai-evaluation) (11.0.0)\n",
      "Requirement already satisfied: pydash<8.0.0,>=6.0.0 in /home/vscode/.local/lib/python3.11/site-packages (from promptflow-devkit>=1.17.1->azure-ai-evaluation) (7.0.7)\n",
      "Requirement already satisfied: python-dotenv<2.0.0,>=1.0.0 in /home/vscode/.local/lib/python3.11/site-packages (from promptflow-devkit>=1.17.1->azure-ai-evaluation) (1.1.1)\n",
      "Requirement already satisfied: sqlalchemy<3.0.0,>=1.4.48 in /home/vscode/.local/lib/python3.11/site-packages (from promptflow-devkit>=1.17.1->azure-ai-evaluation) (2.0.41)\n",
      "Requirement already satisfied: strictyaml<2.0.0,>=1.5.0 in /home/vscode/.local/lib/python3.11/site-packages (from promptflow-devkit>=1.17.1->azure-ai-evaluation) (1.7.3)\n",
      "Requirement already satisfied: tabulate<1.0.0,>=0.9.0 in /home/vscode/.local/lib/python3.11/site-packages (from promptflow-devkit>=1.17.1->azure-ai-evaluation) (0.9.0)\n",
      "Requirement already satisfied: waitress<4.0.0,>=3.0.0 in /home/vscode/.local/lib/python3.11/site-packages (from promptflow-devkit>=1.17.1->azure-ai-evaluation) (3.0.2)\n",
      "Requirement already satisfied: annotated-types>=0.6.0 in /home/vscode/.local/lib/python3.11/site-packages (from pydantic<3,>=1.9.0->openai) (0.7.0)\n",
      "Requirement already satisfied: pydantic-core==2.33.2 in /home/vscode/.local/lib/python3.11/site-packages (from pydantic<3,>=1.9.0->openai) (2.33.2)\n",
      "Requirement already satisfied: typing-inspection>=0.4.0 in /home/vscode/.local/lib/python3.11/site-packages (from pydantic<3,>=1.9.0->openai) (0.4.1)\n",
      "Requirement already satisfied: ruamel.yaml.clib>=0.2.7 in /home/vscode/.local/lib/python3.11/site-packages (from ruamel.yaml<1.0.0,>=0.17.10->azure-ai-evaluation) (0.2.12)\n",
      "Requirement already satisfied: fixedint==0.1.6 in /home/vscode/.local/lib/python3.11/site-packages (from azure-monitor-opentelemetry-exporter<2.0.0,>=1.0.0b21->promptflow-devkit>=1.17.1->azure-ai-evaluation) (0.1.6)\n",
      "Requirement already satisfied: opentelemetry-api~=1.26 in /home/vscode/.local/lib/python3.11/site-packages (from azure-monitor-opentelemetry-exporter<2.0.0,>=1.0.0b21->promptflow-devkit>=1.17.1->azure-ai-evaluation) (1.34.1)\n",
      "Requirement already satisfied: pycparser in /home/vscode/.local/lib/python3.11/site-packages (from cffi>=1.14->cryptography>=2.5->azure-identity) (2.22)\n",
      "Requirement already satisfied: starlette<0.47.0,>=0.40.0 in /home/vscode/.local/lib/python3.11/site-packages (from fastapi<1.0.0,>=0.109.0->promptflow-core>=1.17.1->azure-ai-evaluation) (0.46.2)\n",
      "Requirement already satisfied: blinker>=1.9.0 in /home/vscode/.local/lib/python3.11/site-packages (from flask<4.0.0,>=2.2.3->promptflow-core>=1.17.1->azure-ai-evaluation) (1.9.0)\n",
      "Requirement already satisfied: itsdangerous>=2.2.0 in /home/vscode/.local/lib/python3.11/site-packages (from flask<4.0.0,>=2.2.3->promptflow-core>=1.17.1->azure-ai-evaluation) (2.2.0)\n",
      "Requirement already satisfied: werkzeug>=3.1.0 in /home/vscode/.local/lib/python3.11/site-packages (from flask<4.0.0,>=2.2.3->promptflow-core>=1.17.1->azure-ai-evaluation) (3.1.3)\n",
      "Requirement already satisfied: aniso8601>=0.82 in /home/vscode/.local/lib/python3.11/site-packages (from flask-restx<2.0.0,>=1.2.0->promptflow-devkit>=1.17.1->azure-ai-evaluation) (10.0.1)\n",
      "Requirement already satisfied: importlib-resources in /home/vscode/.local/lib/python3.11/site-packages (from flask-restx<2.0.0,>=1.2.0->promptflow-devkit>=1.17.1->azure-ai-evaluation) (6.5.2)\n",
      "Requirement already satisfied: gitdb<5,>=4.0.1 in /usr/local/lib/python3.11/site-packages (from gitpython<4.0.0,>=3.1.24->promptflow-devkit>=1.17.1->azure-ai-evaluation) (4.0.12)\n",
      "Requirement already satisfied: jsonschema-specifications>=2023.03.6 in /home/vscode/.local/lib/python3.11/site-packages (from jsonschema<5.0.0,>=4.0.0->promptflow-core>=1.17.1->azure-ai-evaluation) (2025.4.1)\n",
      "Requirement already satisfied: referencing>=0.28.4 in /home/vscode/.local/lib/python3.11/site-packages (from jsonschema<5.0.0,>=4.0.0->promptflow-core>=1.17.1->azure-ai-evaluation) (0.36.2)\n",
      "Requirement already satisfied: rpds-py>=0.7.1 in /home/vscode/.local/lib/python3.11/site-packages (from jsonschema<5.0.0,>=4.0.0->promptflow-core>=1.17.1->azure-ai-evaluation) (0.26.0)\n",
      "Requirement already satisfied: jaraco.classes in /home/vscode/.local/lib/python3.11/site-packages (from keyring<25.0.0,>=24.2.0->promptflow-devkit>=1.17.1->azure-ai-evaluation) (3.4.0)\n",
      "Requirement already satisfied: importlib-metadata>=4.11.4 in /home/vscode/.local/lib/python3.11/site-packages (from keyring<25.0.0,>=24.2.0->promptflow-devkit>=1.17.1->azure-ai-evaluation) (8.7.0)\n",
      "Requirement already satisfied: SecretStorage>=3.2 in /home/vscode/.local/lib/python3.11/site-packages (from keyring<25.0.0,>=24.2.0->promptflow-devkit>=1.17.1->azure-ai-evaluation) (3.3.3)\n",
      "Requirement already satisfied: jeepney>=0.4.2 in /home/vscode/.local/lib/python3.11/site-packages (from keyring<25.0.0,>=24.2.0->promptflow-devkit>=1.17.1->azure-ai-evaluation) (0.9.0)\n",
      "Requirement already satisfied: packaging>=17.0 in /home/vscode/.local/lib/python3.11/site-packages (from marshmallow<4.0.0,>=3.5->promptflow-devkit>=1.17.1->azure-ai-evaluation) (25.0)\n",
      "Requirement already satisfied: googleapis-common-protos~=1.52 in /home/vscode/.local/lib/python3.11/site-packages (from opentelemetry-exporter-otlp-proto-http<2.0.0,>=1.22.0->promptflow-devkit>=1.17.1->azure-ai-evaluation) (1.70.0)\n",
      "Requirement already satisfied: opentelemetry-exporter-otlp-proto-common==1.34.1 in /home/vscode/.local/lib/python3.11/site-packages (from opentelemetry-exporter-otlp-proto-http<2.0.0,>=1.22.0->promptflow-devkit>=1.17.1->azure-ai-evaluation) (1.34.1)\n",
      "Requirement already satisfied: opentelemetry-proto==1.34.1 in /home/vscode/.local/lib/python3.11/site-packages (from opentelemetry-exporter-otlp-proto-http<2.0.0,>=1.22.0->promptflow-devkit>=1.17.1->azure-ai-evaluation) (1.34.1)\n",
      "Requirement already satisfied: protobuf<6.0,>=5.0 in /home/vscode/.local/lib/python3.11/site-packages (from opentelemetry-proto==1.34.1->opentelemetry-exporter-otlp-proto-http<2.0.0,>=1.22.0->promptflow-devkit>=1.17.1->azure-ai-evaluation) (5.29.5)\n",
      "Requirement already satisfied: charset_normalizer<4,>=2 in /home/vscode/.local/lib/python3.11/site-packages (from requests>=2.21.0->azure-core>=1.30.2->azure-ai-evaluation) (3.4.2)\n",
      "Requirement already satisfied: urllib3<3,>=1.21.1 in /home/vscode/.local/lib/python3.11/site-packages (from requests>=2.21.0->azure-core>=1.30.2->azure-ai-evaluation) (2.5.0)\n",
      "Requirement already satisfied: oauthlib>=3.0.0 in /home/vscode/.local/lib/python3.11/site-packages (from requests-oauthlib>=0.5.0->msrest>=0.6.21->azure-ai-evaluation) (3.3.1)\n",
      "Requirement already satisfied: greenlet>=1 in /home/vscode/.local/lib/python3.11/site-packages (from sqlalchemy<3.0.0,>=1.4.48->promptflow-devkit>=1.17.1->azure-ai-evaluation) (3.2.3)\n",
      "Requirement already satisfied: smmap<6,>=3.0.1 in /usr/local/lib/python3.11/site-packages (from gitdb<5,>=4.0.1->gitpython<4.0.0,>=3.1.24->promptflow-devkit>=1.17.1->azure-ai-evaluation) (5.0.2)\n",
      "Requirement already satisfied: zipp>=3.20 in /home/vscode/.local/lib/python3.11/site-packages (from importlib-metadata>=4.11.4->keyring<25.0.0,>=24.2.0->promptflow-devkit>=1.17.1->azure-ai-evaluation) (3.23.0)\n",
      "Requirement already satisfied: opentelemetry-semantic-conventions==0.55b1 in /home/vscode/.local/lib/python3.11/site-packages (from opentelemetry-sdk<2.0.0,>=1.22.0->promptflow-tracing==1.18.1->promptflow-core>=1.17.1->azure-ai-evaluation) (0.55b1)\n",
      "Requirement already satisfied: more-itertools in /home/vscode/.local/lib/python3.11/site-packages (from jaraco.classes->keyring<25.0.0,>=24.2.0->promptflow-devkit>=1.17.1->azure-ai-evaluation) (10.7.0)\n",
      "\n",
      "\u001b[1m[\u001b[0m\u001b[34;49mnotice\u001b[0m\u001b[1;39;49m]\u001b[0m\u001b[39;49m A new release of pip is available: \u001b[0m\u001b[31;49m24.0\u001b[0m\u001b[39;49m -> \u001b[0m\u001b[32;49m25.1.1\u001b[0m\n",
      "\u001b[1m[\u001b[0m\u001b[34;49mnotice\u001b[0m\u001b[1;39;49m]\u001b[0m\u001b[39;49m To update, run: \u001b[0m\u001b[32;49mpip install --upgrade pip\u001b[0m\n",
      "Note: you may need to restart the kernel to use updated packages.\n"
     ]
    }
   ],
   "source": [
    "%pip install azure-ai-evaluation azure-identity openai"
   ]
  },
  {
   "cell_type": "markdown",
   "metadata": {},
   "source": [
    "## Access the environment variables.\n",
    "\n",
    "We'll import `os` and `load_dotenv` so that you can access the environment variables."
   ]
  },
  {
   "cell_type": "code",
   "execution_count": 2,
   "metadata": {},
   "outputs": [
    {
     "data": {
      "text/plain": [
       "True"
      ]
     },
     "execution_count": 2,
     "metadata": {},
     "output_type": "execute_result"
    }
   ],
   "source": [
    "import os\n",
    "from dotenv import load_dotenv\n",
    "\n",
    "load_dotenv()"
   ]
  },
  {
   "cell_type": "markdown",
   "metadata": {},
   "source": [
    "## Setup keyless authentication\n",
    "\n",
    "Rather than hardcode your **key**, we'll use a keyless connection with Azure OpenAI."
   ]
  },
  {
   "cell_type": "code",
   "execution_count": 3,
   "metadata": {},
   "outputs": [],
   "source": [
    "import azure.identity\n",
    "\n",
    "credential = azure.identity.DefaultAzureCredential()\n",
    "token_provider = azure.identity.get_bearer_token_provider(credential, \"https://cognitiveservices.azure.com/.default\")\n",
    "\n",
    "token = token_provider()"
   ]
  },
  {
   "cell_type": "markdown",
   "metadata": {},
   "source": [
    "## Import packages\n",
    "\n",
    "We'll now import the `Simulator` class alongside several additional packages and modules that'll be necessary for running the simulation."
   ]
  },
  {
   "cell_type": "code",
   "execution_count": 4,
   "metadata": {},
   "outputs": [
    {
     "name": "stdout",
     "output_type": "stream",
     "text": [
      "[INFO] Could not import AIAgentConverter. Please install the dependency with `pip install azure-ai-projects`.\n",
      "[INFO] Could not import SKAgentConverter. Please install the dependency with `pip install semantic-kernel`.\n"
     ]
    }
   ],
   "source": [
    "import json\n",
    "from azure.ai.evaluation.simulator import Simulator\n",
    "from typing import List, Dict, Any, Optional\n",
    "from openai import AzureOpenAI"
   ]
  },
  {
   "cell_type": "markdown",
   "metadata": {},
   "source": [
    "## Configure the model_config\n",
    "\n",
    "The `model_config` is necessary as it's a required parameter when creating an instance of the `Simulator` class. Let's configure the `model_config` with the following:\n",
    "\n",
    "- Azure OpenAI endpoint\n",
    "- Azure OpenAI API key\n",
    "- Azure deployment"
   ]
  },
  {
   "cell_type": "code",
   "execution_count": 5,
   "metadata": {},
   "outputs": [],
   "source": [
    "model_config = {\n",
    "    \"azure_endpoint\": os.environ.get(\"AZURE_OPENAI_ENDPOINT\"),\n",
    "    \"api_key\": token,\n",
    "    \"azure_deployment\": os.environ.get(\"AZURE_OPENAI_DEPLOYMENT_NAME\")\n",
    "}\n",
    "\n",
    "should_cleanup: bool = False"
   ]
  },
  {
   "cell_type": "markdown",
   "metadata": {},
   "source": [
    "## Create an instance of the Simulator class\n",
    "\n",
    "We now need to create an instance of the `Simulator` class which will later be used to run the simulator. We'll need to initialize the `simulator` object with the `model_config`."
   ]
  },
  {
   "cell_type": "code",
   "execution_count": 6,
   "metadata": {},
   "outputs": [
    {
     "name": "stderr",
     "output_type": "stream",
     "text": [
      "Class Simulator: This is an experimental class, and may change at any time. Please see https://aka.ms/azuremlexperimental for more information.\n"
     ]
    }
   ],
   "source": [
    "simulator = Simulator(model_config)"
   ]
  },
  {
   "cell_type": "markdown",
   "metadata": {},
   "source": [
    "## Create a call to your application\n",
    "\n",
    "We'll now create a function that'll create a call to your application which should take a user query and return a response.\n",
    "\n",
    "The call to the AI model includes parameters which specifies the model, messages, and additional settings which impact the model's response.\n",
    "\n",
    "We'll later send a query to the AI model and retrieve the repsonse. Once the repsonse is retrieved, we'll convert the completion object to a dictionary and extract the message before returning the message content."
   ]
  },
  {
   "cell_type": "code",
   "execution_count": 7,
   "metadata": {},
   "outputs": [],
   "source": [
    "def call_to_your_ai_application(query: str) -> str:\n",
    "    # logic to call your application\n",
    "    # use a try except block to catch any errors\n",
    "    deployment = os.environ.get(\"AZURE_OPENAI_DEPLOYMENT_NAME\")\n",
    "    endpoint = os.environ.get(\"AZURE_OPENAI_ENDPOINT\")\n",
    "    client = AzureOpenAI(\n",
    "        azure_endpoint=endpoint,\n",
    "        api_version=os.environ.get(\"AZURE_OPENAI_API_VERSION\"),\n",
    "        api_key= token,\n",
    "    )\n",
    "    completion = client.chat.completions.create(\n",
    "        model=deployment,\n",
    "        messages=[\n",
    "            {\n",
    "                \"role\": \"user\",\n",
    "                \"content\": query,\n",
    "            }\n",
    "        ],\n",
    "        max_tokens=800,\n",
    "        temperature=0.7,\n",
    "        top_p=0.95,\n",
    "        frequency_penalty=0,\n",
    "        presence_penalty=0,\n",
    "        stop=None,\n",
    "        stream=False,\n",
    "    )\n",
    "    message = completion.to_dict()[\"choices\"][0][\"message\"]\n",
    "    # change this to return the response from your application\n",
    "    return message[\"content\"]"
   ]
  },
  {
   "cell_type": "markdown",
   "metadata": {},
   "source": [
    "## Create a callback\n",
    "\n",
    "We'll now create a `callback` which will handle incoming messages, process them using the app, and format the response to follow the OpenAI chat protocol format.\n",
    "\n",
    "The `callback` function will extract the latest message from the conversation history, reset the context, and then call the app to get a response based on the latest message.\n",
    "\n",
    "Afterwards, the response will be formatted to follow the OpenAI chat protocol format, and then appended to the conversation history. We'll return the updated conversation history."
   ]
  },
  {
   "cell_type": "code",
   "execution_count": 8,
   "metadata": {},
   "outputs": [],
   "source": [
    "async def callback(\n",
    "    messages: List[Dict],\n",
    "    stream: bool = False,\n",
    "    session_state: Any = None,  # noqa: ANN401\n",
    "    context: Optional[Dict[str, Any]] = None,\n",
    ") -> dict:\n",
    "    messages_list = messages[\"messages\"]\n",
    "    # get last message\n",
    "    latest_message = messages_list[-1]\n",
    "    query = latest_message[\"content\"]\n",
    "    context = None\n",
    "    # call your endpoint or ai application here\n",
    "    response = call_to_your_ai_application(query)\n",
    "    # we are formatting the response to follow the openAI chat protocol format\n",
    "    formatted_response = {\n",
    "        \"content\": response,\n",
    "        \"role\": \"assistant\",\n",
    "        \"context\": {\n",
    "            \"citations\": None,\n",
    "        },\n",
    "    }\n",
    "    messages[\"messages\"].append(formatted_response)\n",
    "    return {\"messages\": messages[\"messages\"], \"stream\": stream, \"session_state\": session_state, \"context\": context}\n"
   ]
  },
  {
   "cell_type": "markdown",
   "metadata": {},
   "source": [
    "## Create conversation starters\n",
    "\n",
    "When defining the conversation starters, we want to provide examples that are relevant to a real-world use-case. Here we provide 2 conversation starters for two separate conversations.\n",
    "\n",
    "The first conversation simulates a person discussing lions with the app. The second conversation simulates a parent inquiring about birds with the app. Both conversations are stored within a `conversations_turns` list.\n",
    "\n",
    "**Note**: Later when you run the simulator, if you consistently exceed quota, remove one of the simulations from the `conversation_turns` list and run the subsequent cells once more."
   ]
  },
  {
   "cell_type": "code",
   "execution_count": 9,
   "metadata": {},
   "outputs": [],
   "source": [
    "conversation_turns = [\n",
    "    # simulation 1\n",
    "    [\n",
    "        \"I'm standing in front of the lion enclosure, and I've never seen a real lion before!\",  # simulator conversation starter (turn 1)\n",
    "        \"Wow, the lion is much bigger than I expected! How much do they typically weigh?\",  # conversation turn 2,\n",
    "        \"I notice the lion is just lying there. Do they sleep a lot? What do they do most of the day?\",  # conversation turn 3\n",
    "    ],\n",
    "    # simulation 2\n",
    "    [\n",
    "        \"My child is fascinated by the colorful birds in the aviary. She keeps asking about their feathers.\",\n",
    "        \"My daughter wants to know why some birds have such bright colors while others are more dull. Can you explain?\",\n",
    "        \"She's now wondering if birds can change the color of their feathers like chameleons change their skin color.\",\n",
    "    ],\n",
    "]"
   ]
  },
  {
   "cell_type": "markdown",
   "metadata": {},
   "source": [
    "## Create a call to the simulator\n",
    "\n",
    "Let's now create a call to run the simulation and process the conversation turns."
   ]
  },
  {
   "cell_type": "code",
   "execution_count": 10,
   "metadata": {},
   "outputs": [
    {
     "name": "stderr",
     "output_type": "stream",
     "text": [
      "Simulating with predefined conversation turns: 100%|████████████| 6/6 [00:26<00:00,  4.47s/messages]\n"
     ]
    }
   ],
   "source": [
    "outputs = await simulator(\n",
    "    target=callback,\n",
    "    conversation_turns=conversation_turns,\n",
    "    max_conversation_turns=3,\n",
    ")"
   ]
  },
  {
   "cell_type": "markdown",
   "metadata": {},
   "source": [
    "## Convert the simulation conversation pairs into jsonl\n",
    "\n",
    "We'll now need to convert the simulated conversation into query and response pairs and place into a `.jsonl` file. A `dataset_converter` module is provided which completes the conversion using the `convert_conversations_to_jsonl()` method."
   ]
  },
  {
   "cell_type": "code",
   "execution_count": 11,
   "metadata": {},
   "outputs": [
    {
     "name": "stdout",
     "output_type": "stream",
     "text": [
      "File has been saved as 'zoo_conversations.jsonl'\n"
     ]
    }
   ],
   "source": [
    "from dataset_converter import convert_conversations_to_jsonl\n",
    "\n",
    "json_data = json.dumps(outputs)\n",
    "jsonl_output = convert_conversations_to_jsonl(json_data)\n",
    "\n",
    "# Write to a file\n",
    "with open('zoo_conversations.jsonl', 'w', encoding='utf-8') as f:\n",
    "    f.write(jsonl_output)\n",
    "\n",
    "print(\"File has been saved as 'zoo_conversations.jsonl'\")"
   ]
  },
  {
   "cell_type": "markdown",
   "metadata": {},
   "source": [
    "## Set the path of the dataset\n",
    "\n",
    "We'll now set the path of the dataset that we'll use for the evalutation. The dataset is within the `zoo_conversations.jsonl` file and consists of the following values for each row of data:\n",
    "\n",
    "- query\n",
    "- response"
   ]
  },
  {
   "cell_type": "code",
   "execution_count": 12,
   "metadata": {},
   "outputs": [],
   "source": [
    "path = \"zoo_conversations.jsonl\""
   ]
  },
  {
   "cell_type": "markdown",
   "metadata": {},
   "source": [
    "## Configure the Azure AI project\n",
    "\n",
    "We'll now configure the Azure AI project with the following:\n",
    "\n",
    "- Azure project name\n",
    "- Resource group name\n",
    "- Subscription ID"
   ]
  },
  {
   "cell_type": "code",
   "execution_count": 13,
   "metadata": {},
   "outputs": [],
   "source": [
    "azure_ai_project = {\n",
    "    \"subscription_id\": os.environ.get(\"AZURE_SUBSCRIPTION_ID\"),\n",
    "    \"resource_group_name\": os.environ.get(\"AZURE_OPENAI_RESOURCE_GROUP\"),\n",
    "    \"project_name\": os.environ.get(\"AZURE_AI_PROJECT_NAME\"),\n",
    "}"
   ]
  },
  {
   "cell_type": "markdown",
   "metadata": {},
   "source": [
    "## Create an instance of the evaluators\n",
    "\n",
    "Let's now create an instance of the evaluators. The performance & quality evaluators (i.e. coherence and fluency) only required that we pass in the `model_config`. However, the risk and safety evaluators (i.e. violence, hate and unfairness, sexual, and self-harm) required both the `azure_ai_project` and `credential`. "
   ]
  },
  {
   "cell_type": "code",
   "execution_count": 14,
   "metadata": {},
   "outputs": [
    {
     "name": "stderr",
     "output_type": "stream",
     "text": [
      "Class ViolenceEvaluator: This is an experimental class, and may change at any time. Please see https://aka.ms/azuremlexperimental for more information.\n",
      "Class HateUnfairnessEvaluator: This is an experimental class, and may change at any time. Please see https://aka.ms/azuremlexperimental for more information.\n",
      "Class SexualEvaluator: This is an experimental class, and may change at any time. Please see https://aka.ms/azuremlexperimental for more information.\n",
      "Class SelfHarmEvaluator: This is an experimental class, and may change at any time. Please see https://aka.ms/azuremlexperimental for more information.\n"
     ]
    }
   ],
   "source": [
    "from azure.ai.evaluation import evaluate, CoherenceEvaluator, FluencyEvaluator, ViolenceEvaluator, HateUnfairnessEvaluator, SexualEvaluator, SelfHarmEvaluator\n",
    "from azure.identity import DefaultAzureCredential \n",
    "\n",
    "coherence_eval = CoherenceEvaluator(model_config)\n",
    "fluency_eval = FluencyEvaluator(model_config)\n",
    "violence_eval = ViolenceEvaluator(azure_ai_project=azure_ai_project, credential=DefaultAzureCredential())\n",
    "hateunfairness_eval = HateUnfairnessEvaluator(azure_ai_project=azure_ai_project, credential=DefaultAzureCredential())\n",
    "sexual_eval = SexualEvaluator(azure_ai_project=azure_ai_project, credential=DefaultAzureCredential())\n",
    "selfharm_eval = SelfHarmEvaluator(azure_ai_project=azure_ai_project, credential=DefaultAzureCredential())"
   ]
  },
  {
   "cell_type": "markdown",
   "metadata": {},
   "source": [
    "## Create the call to evaluate the dataset\n",
    "\n",
    "We can run an evaluation for a dataset with the `evaluate` function and include our list of evaluators. We must also ensure that the `evaluator_config` is set with the appropriate parameters and values for the `query` and `response`.\n",
    "\n",
    "Since we want to track the evaluation results in our Azure AI project, we'll need to include the Azure AI Foundry project information."
   ]
  },
  {
   "cell_type": "code",
   "execution_count": null,
   "metadata": {},
   "outputs": [
    {
     "name": "stderr",
     "output_type": "stream",
     "text": [
      "[2025-07-03 16:22:20 +0000][promptflow][WARNING] - Found existing /workspaces/RAI-workshops/Evaluation and Data Generation Workshop/flow.flex.yaml, will not respect it in runtime.\n",
      "[2025-07-03 16:22:20 +0000][promptflow][WARNING] - Found existing /workspaces/RAI-workshops/Evaluation and Data Generation Workshop/flow.flex.yaml, will not respect it in runtime.\n",
      "[2025-07-03 16:22:20 +0000][promptflow][WARNING] - Found existing /workspaces/RAI-workshops/Evaluation and Data Generation Workshop/flow.flex.yaml, will not respect it in runtime.\n",
      "[2025-07-03 16:22:20 +0000][promptflow][WARNING] - Found existing /workspaces/RAI-workshops/Evaluation and Data Generation Workshop/flow.flex.yaml, will not respect it in runtime.\n",
      "[2025-07-03 16:22:20 +0000][promptflow][WARNING] - Found existing /workspaces/RAI-workshops/Evaluation and Data Generation Workshop/flow.flex.yaml, will not respect it in runtime.\n",
      "[2025-07-03 16:22:20 +0000][promptflow][WARNING] - Found existing /workspaces/RAI-workshops/Evaluation and Data Generation Workshop/flow.flex.yaml, will not respect it in runtime.\n",
      "[2025-07-03 16:22:20 +0000][promptflow._core.entry_meta_generator][WARNING] - Generate meta in current process and timeout won't take effect. Please handle timeout manually outside current process.\n",
      "[2025-07-03 16:22:20 +0000][promptflow._core.entry_meta_generator][WARNING] - Generate meta in current process and timeout won't take effect. Please handle timeout manually outside current process.\n",
      "[2025-07-03 16:22:20 +0000][promptflow._core.entry_meta_generator][WARNING] - Generate meta in current process and timeout won't take effect. Please handle timeout manually outside current process.\n",
      "[2025-07-03 16:22:20 +0000][promptflow._sdk._orchestrator.run_submitter][INFO] - Submitting run azure_ai_evaluation_evaluators_self_harm_20250703_162220_510852, log path: /home/vscode/.promptflow/.runs/azure_ai_evaluation_evaluators_self_harm_20250703_162220_510852/logs.txt\n",
      "[2025-07-03 16:22:20 +0000][promptflow._sdk._orchestrator.run_submitter][INFO] - Submitting run azure_ai_evaluation_evaluators_violence_20250703_162220_508492, log path: /home/vscode/.promptflow/.runs/azure_ai_evaluation_evaluators_violence_20250703_162220_508492/logs.txt\n",
      "[2025-07-03 16:22:20 +0000][promptflow._sdk._orchestrator.run_submitter][INFO] - Submitting run azure_ai_evaluation_evaluators_hate_unfairness_20250703_162220_508949, log path: /home/vscode/.promptflow/.runs/azure_ai_evaluation_evaluators_hate_unfairness_20250703_162220_508949/logs.txt\n",
      "[2025-07-03 16:22:20 +0000][promptflow._core.entry_meta_generator][WARNING] - Generate meta in current process and timeout won't take effect. Please handle timeout manually outside current process.\n",
      "[2025-07-03 16:22:20 +0000][promptflow._core.entry_meta_generator][WARNING] - Generate meta in current process and timeout won't take effect. Please handle timeout manually outside current process.\n",
      "[2025-07-03 16:22:20 +0000][promptflow._core.entry_meta_generator][WARNING] - Generate meta in current process and timeout won't take effect. Please handle timeout manually outside current process.\n",
      "[2025-07-03 16:22:20 +0000][promptflow._sdk._orchestrator.run_submitter][INFO] - Submitting run azure_ai_evaluation_evaluators_fluency_20250703_162220_508231, log path: /home/vscode/.promptflow/.runs/azure_ai_evaluation_evaluators_fluency_20250703_162220_508231/logs.txt\n",
      "[2025-07-03 16:22:20 +0000][promptflow._sdk._orchestrator.run_submitter][INFO] - Submitting run azure_ai_evaluation_evaluators_coherence_20250703_162220_507883, log path: /home/vscode/.promptflow/.runs/azure_ai_evaluation_evaluators_coherence_20250703_162220_507883/logs.txt\n",
      "[2025-07-03 16:22:20 +0000][promptflow._sdk._orchestrator.run_submitter][INFO] - Submitting run azure_ai_evaluation_evaluators_sexual_20250703_162220_510467, log path: /home/vscode/.promptflow/.runs/azure_ai_evaluation_evaluators_sexual_20250703_162220_510467/logs.txt\n"
     ]
    },
    {
     "name": "stdout",
     "output_type": "stream",
     "text": [
      "2025-07-03 16:22:20 +0000   15978 execution.bulk     INFO     Current thread is not main thread, skip signal handler registration in BatchEngine.\n",
      "2025-07-03 16:22:23 +0000   15978 execution.bulk     INFO     Finished 1 / 6 lines.\n",
      "2025-07-03 16:22:23 +0000   15978 execution.bulk     INFO     Average execution time for completed lines: 3.13 seconds. Estimated time for incomplete lines: 15.65 seconds.\n",
      "2025-07-03 16:22:23 +0000   15978 execution.bulk     INFO     Finished 2 / 6 lines.\n",
      "2025-07-03 16:22:23 +0000   15978 execution.bulk     INFO     Average execution time for completed lines: 1.58 seconds. Estimated time for incomplete lines: 6.32 seconds.\n",
      "2025-07-03 16:22:24 +0000   15978 execution.bulk     INFO     Finished 3 / 6 lines.\n",
      "2025-07-03 16:22:24 +0000   15978 execution.bulk     INFO     Average execution time for completed lines: 1.16 seconds. Estimated time for incomplete lines: 3.48 seconds.\n",
      "2025-07-03 16:22:24 +0000   15978 execution.bulk     INFO     Finished 4 / 6 lines.\n",
      "2025-07-03 16:22:24 +0000   15978 execution.bulk     INFO     Average execution time for completed lines: 0.87 seconds. Estimated time for incomplete lines: 1.74 seconds.\n",
      "2025-07-03 16:22:24 +0000   15978 execution.bulk     INFO     Finished 5 / 6 lines.\n",
      "2025-07-03 16:22:24 +0000   15978 execution.bulk     INFO     Average execution time for completed lines: 0.71 seconds. Estimated time for incomplete lines: 0.71 seconds.\n",
      "2025-07-03 16:22:24 +0000   15978 execution.bulk     INFO     Finished 6 / 6 lines.\n",
      "2025-07-03 16:22:24 +0000   15978 execution.bulk     INFO     Average execution time for completed lines: 0.6 seconds. Estimated time for incomplete lines: 0.0 seconds.\n",
      "======= Run Summary =======\n",
      "\n",
      "Run name: \"azure_ai_evaluation_evaluators_fluency_20250703_162220_508231\"\n",
      "Run status: \"Completed\"\n",
      "Start time: \"2025-07-03 16:22:20.525971+00:00\"\n",
      "Duration: \"0:00:04.205309\"\n",
      "Output path: \"/home/vscode/.promptflow/.runs/azure_ai_evaluation_evaluators_fluency_20250703_162220_508231\"\n",
      "\n",
      "2025-07-03 16:22:20 +0000   15978 execution.bulk     INFO     Current thread is not main thread, skip signal handler registration in BatchEngine.\n",
      "2025-07-03 16:22:23 +0000   15978 execution.bulk     INFO     Finished 1 / 6 lines.\n",
      "2025-07-03 16:22:23 +0000   15978 execution.bulk     INFO     Average execution time for completed lines: 2.92 seconds. Estimated time for incomplete lines: 14.6 seconds.\n",
      "2025-07-03 16:22:23 +0000   15978 execution.bulk     INFO     Finished 2 / 6 lines.\n",
      "2025-07-03 16:22:23 +0000   15978 execution.bulk     INFO     Average execution time for completed lines: 1.49 seconds. Estimated time for incomplete lines: 5.96 seconds.\n",
      "2025-07-03 16:22:23 +0000   15978 execution.bulk     INFO     Finished 3 / 6 lines.\n",
      "2025-07-03 16:22:23 +0000   15978 execution.bulk     INFO     Average execution time for completed lines: 1.0 seconds. Estimated time for incomplete lines: 3.0 seconds.\n",
      "2025-07-03 16:22:23 +0000   15978 execution.bulk     INFO     Finished 4 / 6 lines.\n",
      "2025-07-03 16:22:23 +0000   15978 execution.bulk     INFO     Average execution time for completed lines: 0.79 seconds. Estimated time for incomplete lines: 1.58 seconds.\n",
      "2025-07-03 16:22:24 +0000   15978 execution.bulk     INFO     Finished 5 / 6 lines.\n",
      "2025-07-03 16:22:24 +0000   15978 execution.bulk     INFO     Average execution time for completed lines: 0.66 seconds. Estimated time for incomplete lines: 0.66 seconds.\n",
      "2025-07-03 16:22:24 +0000   15978 execution.bulk     INFO     Finished 6 / 6 lines.\n",
      "2025-07-03 16:22:24 +0000   15978 execution.bulk     INFO     Average execution time for completed lines: 0.61 seconds. Estimated time for incomplete lines: 0.0 seconds.\n",
      "======= Run Summary =======\n",
      "\n",
      "Run name: \"azure_ai_evaluation_evaluators_coherence_20250703_162220_507883\"\n",
      "Run status: \"Completed\"\n",
      "Start time: \"2025-07-03 16:22:20.519226+00:00\"\n",
      "Duration: \"0:00:04.229063\"\n",
      "Output path: \"/home/vscode/.promptflow/.runs/azure_ai_evaluation_evaluators_coherence_20250703_162220_507883\"\n",
      "\n",
      "2025-07-03 16:22:26 +0000   15978 execution.bulk     INFO     Finished 1 / 6 lines.\n",
      "2025-07-03 16:22:26 +0000   15978 execution.bulk     INFO     Average execution time for completed lines: 6.19 seconds. Estimated time for incomplete lines: 30.95 seconds.\n",
      "2025-07-03 16:22:27 +0000   15978 execution.bulk     INFO     Finished 1 / 6 lines.\n",
      "2025-07-03 16:22:27 +0000   15978 execution.bulk     INFO     Average execution time for completed lines: 6.49 seconds. Estimated time for incomplete lines: 32.45 seconds.\n",
      "2025-07-03 16:22:31 +0000   15978 execution.bulk     INFO     Finished 1 / 6 lines.\n",
      "2025-07-03 16:22:31 +0000   15978 execution.bulk     INFO     Average execution time for completed lines: 10.96 seconds. Estimated time for incomplete lines: 54.8 seconds.\n",
      "2025-07-03 16:22:31 +0000   15978 execution.bulk     INFO     Finished 2 / 6 lines.\n",
      "2025-07-03 16:22:31 +0000   15978 execution.bulk     INFO     Average execution time for completed lines: 5.5 seconds. Estimated time for incomplete lines: 22.0 seconds.\n",
      "2025-07-03 16:22:31 +0000   15978 execution.bulk     INFO     Finished 1 / 6 lines.\n",
      "2025-07-03 16:22:31 +0000   15978 execution.bulk     INFO     Average execution time for completed lines: 11.01 seconds. Estimated time for incomplete lines: 55.05 seconds.\n",
      "2025-07-03 16:22:31 +0000   15978 execution.bulk     INFO     Finished 3 / 6 lines.\n",
      "2025-07-03 16:22:31 +0000   15978 execution.bulk     INFO     Average execution time for completed lines: 3.7 seconds. Estimated time for incomplete lines: 11.1 seconds.\n",
      "2025-07-03 16:22:31 +0000   15978 execution.bulk     INFO     Finished 2 / 6 lines.\n",
      "2025-07-03 16:22:31 +0000   15978 execution.bulk     INFO     Average execution time for completed lines: 5.55 seconds. Estimated time for incomplete lines: 22.2 seconds.\n",
      "2025-07-03 16:22:32 +0000   15978 execution.bulk     INFO     Finished 4 / 6 lines.\n",
      "2025-07-03 16:22:32 +0000   15978 execution.bulk     INFO     Average execution time for completed lines: 2.86 seconds. Estimated time for incomplete lines: 5.72 seconds.\n",
      "2025-07-03 16:22:40 +0000   15978 execution.bulk     INFO     Finished 3 / 6 lines.\n",
      "2025-07-03 16:22:40 +0000   15978 execution.bulk     INFO     Average execution time for completed lines: 6.58 seconds. Estimated time for incomplete lines: 19.74 seconds.\n",
      "2025-07-03 16:22:40 +0000   15978 execution.bulk     INFO     Finished 2 / 6 lines.\n",
      "2025-07-03 16:22:40 +0000   15978 execution.bulk     INFO     Average execution time for completed lines: 9.89 seconds. Estimated time for incomplete lines: 39.56 seconds.\n",
      "2025-07-03 16:22:40 +0000   15978 execution.bulk     INFO     Finished 2 / 6 lines.\n",
      "2025-07-03 16:22:40 +0000   15978 execution.bulk     INFO     Average execution time for completed lines: 9.91 seconds. Estimated time for incomplete lines: 39.64 seconds.\n",
      "2025-07-03 16:22:40 +0000   15978 execution.bulk     INFO     Finished 3 / 6 lines.\n",
      "2025-07-03 16:22:40 +0000   15978 execution.bulk     INFO     Average execution time for completed lines: 6.61 seconds. Estimated time for incomplete lines: 19.83 seconds.\n",
      "2025-07-03 16:22:40 +0000   15978 execution.bulk     INFO     Finished 3 / 6 lines.\n",
      "2025-07-03 16:22:40 +0000   15978 execution.bulk     INFO     Average execution time for completed lines: 6.65 seconds. Estimated time for incomplete lines: 19.95 seconds.\n",
      "2025-07-03 16:22:40 +0000   15978 execution.bulk     INFO     Finished 5 / 6 lines.\n",
      "2025-07-03 16:22:40 +0000   15978 execution.bulk     INFO     Average execution time for completed lines: 4.02 seconds. Estimated time for incomplete lines: 4.02 seconds.\n",
      "2025-07-03 16:22:40 +0000   15978 execution.bulk     INFO     Finished 4 / 6 lines.\n",
      "2025-07-03 16:22:40 +0000   15978 execution.bulk     INFO     Average execution time for completed lines: 5.02 seconds. Estimated time for incomplete lines: 10.04 seconds.\n",
      "2025-07-03 16:22:40 +0000   15978 execution.bulk     INFO     Finished 4 / 6 lines.\n",
      "2025-07-03 16:22:40 +0000   15978 execution.bulk     INFO     Average execution time for completed lines: 5.04 seconds. Estimated time for incomplete lines: 10.08 seconds.\n",
      "2025-07-03 16:22:40 +0000   15978 execution.bulk     INFO     Finished 4 / 6 lines.\n",
      "2025-07-03 16:22:40 +0000   15978 execution.bulk     INFO     Average execution time for completed lines: 5.06 seconds. Estimated time for incomplete lines: 10.12 seconds.\n",
      "2025-07-03 16:22:40 +0000   15978 execution.bulk     INFO     Finished 5 / 6 lines.\n",
      "2025-07-03 16:22:40 +0000   15978 execution.bulk     INFO     Average execution time for completed lines: 4.04 seconds. Estimated time for incomplete lines: 4.04 seconds.\n",
      "2025-07-03 16:22:41 +0000   15978 execution.bulk     INFO     Finished 6 / 6 lines.\n",
      "2025-07-03 16:22:41 +0000   15978 execution.bulk     INFO     Average execution time for completed lines: 3.38 seconds. Estimated time for incomplete lines: 0.0 seconds.\n",
      "2025-07-03 16:22:41 +0000   15978 execution.bulk     INFO     Finished 5 / 6 lines.\n",
      "2025-07-03 16:22:41 +0000   15978 execution.bulk     INFO     Average execution time for completed lines: 4.06 seconds. Estimated time for incomplete lines: 4.06 seconds.\n",
      "2025-07-03 16:22:20 +0000   15978 execution.bulk     INFO     Current thread is not main thread, skip signal handler registration in BatchEngine.\n",
      "2025-07-03 16:22:26 +0000   15978 execution.bulk     INFO     Finished 1 / 6 lines.\n",
      "2025-07-03 16:22:26 +0000   15978 execution.bulk     INFO     Average execution time for completed lines: 6.19 seconds. Estimated time for incomplete lines: 30.95 seconds.\n",
      "2025-07-03 16:22:31 +0000   15978 execution.bulk     INFO     Finished 2 / 6 lines.\n",
      "2025-07-03 16:22:31 +0000   15978 execution.bulk     INFO     Average execution time for completed lines: 5.55 seconds. Estimated time for incomplete lines: 22.2 seconds.\n",
      "2025-07-03 16:22:40 +0000   15978 execution.bulk     INFO     Finished 3 / 6 lines.\n",
      "2025-07-03 16:22:40 +0000   15978 execution.bulk     INFO     Average execution time for completed lines: 6.58 seconds. Estimated time for incomplete lines: 19.74 seconds.\n",
      "2025-07-03 16:22:40 +0000   15978 execution.bulk     INFO     Finished 4 / 6 lines.\n",
      "2025-07-03 16:22:40 +0000   15978 execution.bulk     INFO     Average execution time for completed lines: 5.02 seconds. Estimated time for incomplete lines: 10.04 seconds.\n",
      "2025-07-03 16:22:40 +0000   15978 execution.bulk     INFO     Finished 5 / 6 lines.\n",
      "2025-07-03 16:22:40 +0000   15978 execution.bulk     INFO     Average execution time for completed lines: 4.04 seconds. Estimated time for incomplete lines: 4.04 seconds.\n",
      "2025-07-03 16:22:41 +0000   15978 execution.bulk     INFO     Finished 6 / 6 lines.\n",
      "2025-07-03 16:22:41 +0000   15978 execution.bulk     INFO     Average execution time for completed lines: 3.38 seconds. Estimated time for incomplete lines: 0.0 seconds.\n",
      "======= Run Summary =======\n",
      "\n",
      "Run name: \"azure_ai_evaluation_evaluators_sexual_20250703_162220_510467\"\n",
      "Run status: \"Completed\"\n",
      "Start time: \"2025-07-03 16:22:20.527801+00:00\"\n",
      "Duration: \"0:00:20.592723\"\n",
      "Output path: \"/home/vscode/.promptflow/.runs/azure_ai_evaluation_evaluators_sexual_20250703_162220_510467\"\n",
      "\n",
      "2025-07-03 16:22:41 +0000   15978 execution.bulk     INFO     Finished 6 / 6 lines.\n",
      "2025-07-03 16:22:41 +0000   15978 execution.bulk     INFO     Average execution time for completed lines: 3.43 seconds. Estimated time for incomplete lines: 0.0 seconds.\n",
      "2025-07-03 16:22:20 +0000   15978 execution.bulk     INFO     Current thread is not main thread, skip signal handler registration in BatchEngine.\n",
      "2025-07-03 16:22:27 +0000   15978 execution.bulk     INFO     Finished 1 / 6 lines.\n",
      "2025-07-03 16:22:27 +0000   15978 execution.bulk     INFO     Average execution time for completed lines: 6.49 seconds. Estimated time for incomplete lines: 32.45 seconds.\n",
      "2025-07-03 16:22:31 +0000   15978 execution.bulk     INFO     Finished 2 / 6 lines.\n",
      "2025-07-03 16:22:31 +0000   15978 execution.bulk     INFO     Average execution time for completed lines: 5.5 seconds. Estimated time for incomplete lines: 22.0 seconds.\n",
      "2025-07-03 16:22:31 +0000   15978 execution.bulk     INFO     Finished 3 / 6 lines.\n",
      "2025-07-03 16:22:31 +0000   15978 execution.bulk     INFO     Average execution time for completed lines: 3.7 seconds. Estimated time for incomplete lines: 11.1 seconds.\n",
      "2025-07-03 16:22:32 +0000   15978 execution.bulk     INFO     Finished 4 / 6 lines.\n",
      "2025-07-03 16:22:32 +0000   15978 execution.bulk     INFO     Average execution time for completed lines: 2.86 seconds. Estimated time for incomplete lines: 5.72 seconds.\n",
      "2025-07-03 16:22:40 +0000   15978 execution.bulk     INFO     Finished 5 / 6 lines.\n",
      "2025-07-03 16:22:40 +0000   15978 execution.bulk     INFO     Average execution time for completed lines: 4.02 seconds. Estimated time for incomplete lines: 4.02 seconds.\n",
      "2025-07-03 16:22:41 +0000   15978 execution.bulk     INFO     Finished 6 / 6 lines.\n",
      "2025-07-03 16:22:41 +0000   15978 execution.bulk     INFO     Average execution time for completed lines: 3.43 seconds. Estimated time for incomplete lines: 0.0 seconds.\n",
      "======= Run Summary =======\n",
      "\n",
      "Run name: \"azure_ai_evaluation_evaluators_self_harm_20250703_162220_510852\"\n",
      "Run status: \"Completed\"\n",
      "Start time: \"2025-07-03 16:22:20.530813+00:00\"\n",
      "Duration: \"0:00:21.546725\"\n",
      "Output path: \"/home/vscode/.promptflow/.runs/azure_ai_evaluation_evaluators_self_harm_20250703_162220_510852\"\n",
      "\n",
      "2025-07-03 16:22:57 +0000   15978 execution.bulk     INFO     Finished 6 / 6 lines.\n",
      "2025-07-03 16:22:57 +0000   15978 execution.bulk     INFO     Average execution time for completed lines: 6.21 seconds. Estimated time for incomplete lines: 0.0 seconds.\n",
      "2025-07-03 16:22:58 +0000   15978 execution.bulk     INFO     Finished 5 / 6 lines.\n",
      "2025-07-03 16:22:58 +0000   15978 execution.bulk     INFO     Average execution time for completed lines: 7.47 seconds. Estimated time for incomplete lines: 7.47 seconds.\n",
      "2025-07-03 16:22:58 +0000   15978 execution.bulk     INFO     Finished 6 / 6 lines.\n",
      "2025-07-03 16:22:58 +0000   15978 execution.bulk     INFO     Average execution time for completed lines: 6.24 seconds. Estimated time for incomplete lines: 0.0 seconds.\n",
      "2025-07-03 16:22:20 +0000   15978 execution.bulk     INFO     Current thread is not main thread, skip signal handler registration in BatchEngine.\n",
      "2025-07-03 16:22:31 +0000   15978 execution.bulk     INFO     Finished 1 / 6 lines.\n",
      "2025-07-03 16:22:31 +0000   15978 execution.bulk     INFO     Average execution time for completed lines: 11.01 seconds. Estimated time for incomplete lines: 55.05 seconds.\n",
      "2025-07-03 16:22:40 +0000   15978 execution.bulk     INFO     Finished 2 / 6 lines.\n",
      "2025-07-03 16:22:40 +0000   15978 execution.bulk     INFO     Average execution time for completed lines: 9.89 seconds. Estimated time for incomplete lines: 39.56 seconds.\n",
      "2025-07-03 16:22:40 +0000   15978 execution.bulk     INFO     Finished 3 / 6 lines.\n",
      "2025-07-03 16:22:40 +0000   15978 execution.bulk     INFO     Average execution time for completed lines: 6.61 seconds. Estimated time for incomplete lines: 19.83 seconds.\n",
      "2025-07-03 16:22:40 +0000   15978 execution.bulk     INFO     Finished 4 / 6 lines.\n",
      "2025-07-03 16:22:40 +0000   15978 execution.bulk     INFO     Average execution time for completed lines: 5.04 seconds. Estimated time for incomplete lines: 10.08 seconds.\n",
      "2025-07-03 16:22:41 +0000   15978 execution.bulk     INFO     Finished 5 / 6 lines.\n",
      "2025-07-03 16:22:41 +0000   15978 execution.bulk     INFO     Average execution time for completed lines: 4.06 seconds. Estimated time for incomplete lines: 4.06 seconds.\n",
      "2025-07-03 16:22:57 +0000   15978 execution.bulk     INFO     Finished 6 / 6 lines.\n",
      "2025-07-03 16:22:57 +0000   15978 execution.bulk     INFO     Average execution time for completed lines: 6.21 seconds. Estimated time for incomplete lines: 0.0 seconds.\n",
      "======= Run Summary =======\n",
      "\n",
      "Run name: \"azure_ai_evaluation_evaluators_hate_unfairness_20250703_162220_508949\"\n",
      "Run status: \"Completed\"\n",
      "Start time: \"2025-07-03 16:22:20.524563+00:00\"\n",
      "Duration: \"0:00:37.593688\"\n",
      "Output path: \"/home/vscode/.promptflow/.runs/azure_ai_evaluation_evaluators_hate_unfairness_20250703_162220_508949\"\n",
      "\n",
      "2025-07-03 16:22:20 +0000   15978 execution.bulk     INFO     Current thread is not main thread, skip signal handler registration in BatchEngine.\n",
      "2025-07-03 16:22:31 +0000   15978 execution.bulk     INFO     Finished 1 / 6 lines.\n",
      "2025-07-03 16:22:31 +0000   15978 execution.bulk     INFO     Average execution time for completed lines: 10.96 seconds. Estimated time for incomplete lines: 54.8 seconds.\n",
      "2025-07-03 16:22:40 +0000   15978 execution.bulk     INFO     Finished 2 / 6 lines.\n",
      "2025-07-03 16:22:40 +0000   15978 execution.bulk     INFO     Average execution time for completed lines: 9.91 seconds. Estimated time for incomplete lines: 39.64 seconds.\n",
      "2025-07-03 16:22:40 +0000   15978 execution.bulk     INFO     Finished 3 / 6 lines.\n",
      "2025-07-03 16:22:40 +0000   15978 execution.bulk     INFO     Average execution time for completed lines: 6.65 seconds. Estimated time for incomplete lines: 19.95 seconds.\n",
      "2025-07-03 16:22:40 +0000   15978 execution.bulk     INFO     Finished 4 / 6 lines.\n",
      "2025-07-03 16:22:40 +0000   15978 execution.bulk     INFO     Average execution time for completed lines: 5.06 seconds. Estimated time for incomplete lines: 10.12 seconds.\n",
      "2025-07-03 16:22:58 +0000   15978 execution.bulk     INFO     Finished 5 / 6 lines.\n",
      "2025-07-03 16:22:58 +0000   15978 execution.bulk     INFO     Average execution time for completed lines: 7.47 seconds. Estimated time for incomplete lines: 7.47 seconds.\n",
      "2025-07-03 16:22:58 +0000   15978 execution.bulk     INFO     Finished 6 / 6 lines.\n",
      "2025-07-03 16:22:58 +0000   15978 execution.bulk     INFO     Average execution time for completed lines: 6.24 seconds. Estimated time for incomplete lines: 0.0 seconds.\n",
      "======= Run Summary =======\n",
      "\n",
      "Run name: \"azure_ai_evaluation_evaluators_violence_20250703_162220_508492\"\n",
      "Run status: \"Completed\"\n",
      "Start time: \"2025-07-03 16:22:20.525328+00:00\"\n",
      "Duration: \"0:00:38.531522\"\n",
      "Output path: \"/home/vscode/.promptflow/.runs/azure_ai_evaluation_evaluators_violence_20250703_162220_508492\"\n",
      "\n",
      "======= Combined Run Summary (Per Evaluator) =======\n",
      "\n",
      "{\n",
      "    \"coherence\": {\n",
      "        \"status\": \"Completed\",\n",
      "        \"duration\": \"0:00:04.229063\",\n",
      "        \"completed_lines\": 6,\n",
      "        \"failed_lines\": 0,\n",
      "        \"log_path\": \"/home/vscode/.promptflow/.runs/azure_ai_evaluation_evaluators_coherence_20250703_162220_507883\"\n",
      "    },\n",
      "    \"fluency\": {\n",
      "        \"status\": \"Completed\",\n",
      "        \"duration\": \"0:00:04.205309\",\n",
      "        \"completed_lines\": 6,\n",
      "        \"failed_lines\": 0,\n",
      "        \"log_path\": \"/home/vscode/.promptflow/.runs/azure_ai_evaluation_evaluators_fluency_20250703_162220_508231\"\n",
      "    },\n",
      "    \"violence\": {\n",
      "        \"status\": \"Completed\",\n",
      "        \"duration\": \"0:00:38.531522\",\n",
      "        \"completed_lines\": 6,\n",
      "        \"failed_lines\": 0,\n",
      "        \"log_path\": \"/home/vscode/.promptflow/.runs/azure_ai_evaluation_evaluators_violence_20250703_162220_508492\"\n",
      "    },\n",
      "    \"hate_unfairness\": {\n",
      "        \"status\": \"Completed\",\n",
      "        \"duration\": \"0:00:37.593688\",\n",
      "        \"completed_lines\": 6,\n",
      "        \"failed_lines\": 0,\n",
      "        \"log_path\": \"/home/vscode/.promptflow/.runs/azure_ai_evaluation_evaluators_hate_unfairness_20250703_162220_508949\"\n",
      "    },\n",
      "    \"sexual\": {\n",
      "        \"status\": \"Completed\",\n",
      "        \"duration\": \"0:00:20.592723\",\n",
      "        \"completed_lines\": 6,\n",
      "        \"failed_lines\": 0,\n",
      "        \"log_path\": \"/home/vscode/.promptflow/.runs/azure_ai_evaluation_evaluators_sexual_20250703_162220_510467\"\n",
      "    },\n",
      "    \"self_harm\": {\n",
      "        \"status\": \"Completed\",\n",
      "        \"duration\": \"0:00:21.546725\",\n",
      "        \"completed_lines\": 6,\n",
      "        \"failed_lines\": 0,\n",
      "        \"log_path\": \"/home/vscode/.promptflow/.runs/azure_ai_evaluation_evaluators_self_harm_20250703_162220_510852\"\n",
      "    }\n",
      "}\n",
      "\n",
      "====================================================\n",
      "\n"
     ]
    },
    {
     "name": "stdout",
     "output_type": "stream",
     "text": [
      "https://ai.azure.com/build/evaluation/1a1a072a-14d3-485f-862d-f2140b6b831d?wsid=/subscriptions/973bd745-2c33-42c1-9ec6-b11a0a7f4aba/resourceGroups/rg-franciscoruizrivas-8637_ai/providers/Microsoft.MachineLearningServices/workspaces/franciscoruizrivas-4283\n",
      "[{\"name\": \"Any\", \"type\": \"_AnyMeta\", \"fullType\": \"typing._AnyMeta\"}, {\"name\": \"AzureOpenAI\", \"type\": \"type\", \"fullType\": \"type\"}, {\"name\": \"CoherenceEvaluator\", \"type\": \"ABCMeta\", \"fullType\": \"abc.ABCMeta\"}, {\"name\": \"DefaultAzureCredential\", \"type\": \"type\", \"fullType\": \"type\"}, {\"name\": \"Dict\", \"type\": \"_SpecialGenericAlias\", \"fullType\": \"typing._SpecialGenericAlias\"}, {\"name\": \"FluencyEvaluator\", \"type\": \"ABCMeta\", \"fullType\": \"abc.ABCMeta\"}, {\"name\": \"HateUnfairnessEvaluator\", \"type\": \"ABCMeta\", \"fullType\": \"abc.ABCMeta\"}, {\"name\": \"List\", \"type\": \"_SpecialGenericAlias\", \"fullType\": \"typing._SpecialGenericAlias\"}, {\"name\": \"Optional\", \"type\": \"_SpecialForm\", \"fullType\": \"typing._SpecialForm\"}, {\"name\": \"SelfHarmEvaluator\", \"type\": \"ABCMeta\", \"fullType\": \"abc.ABCMeta\"}, {\"name\": \"SexualEvaluator\", \"type\": \"ABCMeta\", \"fullType\": \"abc.ABCMeta\"}, {\"name\": \"Simulator\", \"type\": \"type\", \"fullType\": \"type\"}, {\"name\": \"ViolenceEvaluator\", \"type\": \"ABCMeta\", \"fullType\": \"abc.ABCMeta\"}, {\"name\": \"azure\", \"type\": \"module\", \"fullType\": \"module\"}, {\"name\": \"azure_ai_project\", \"type\": \"dict\", \"fullType\": \"dict\"}, {\"name\": \"call_to_your_ai_application\", \"type\": \"function\", \"fullType\": \"function\"}, {\"name\": \"callback\", \"type\": \"function\", \"fullType\": \"function\"}, {\"name\": \"coherence_eval\", \"type\": \"CoherenceEvaluator\", \"fullType\": \"azure.ai.evaluation._evaluators._coherence._coherence.CoherenceEvaluator\"}, {\"name\": \"conversation_turns\", \"type\": \"list\", \"fullType\": \"list\"}, {\"name\": \"convert_conversations_to_jsonl\", \"type\": \"function\", \"fullType\": \"function\"}, {\"name\": \"credential\", \"type\": \"DefaultAzureCredential\", \"fullType\": \"azure.identity._credentials.default.DefaultAzureCredential\"}, {\"name\": \"evaluate\", \"type\": \"function\", \"fullType\": \"function\"}, {\"name\": \"f\", \"type\": \"TextIOWrapper\", \"fullType\": \"_io.TextIOWrapper\"}, {\"name\": \"fluency_eval\", \"type\": \"FluencyEvaluator\", \"fullType\": \"azure.ai.evaluation._evaluators._fluency._fluency.FluencyEvaluator\"}, {\"name\": \"hateunfairness_eval\", \"type\": \"HateUnfairnessEvaluator\", \"fullType\": \"azure.ai.evaluation._evaluators._content_safety._hate_unfairness.HateUnfairnessEvaluator\"}, {\"name\": \"json\", \"type\": \"module\", \"fullType\": \"module\"}, {\"name\": \"json_data\", \"type\": \"str\", \"fullType\": \"str\"}, {\"name\": \"jsonl_output\", \"type\": \"str\", \"fullType\": \"str\"}, {\"name\": \"load_dotenv\", \"type\": \"function\", \"fullType\": \"function\"}, {\"name\": \"model_config\", \"type\": \"dict\", \"fullType\": \"dict\"}, {\"name\": \"os\", \"type\": \"module\", \"fullType\": \"module\"}, {\"name\": \"outputs\", \"type\": \"list\", \"fullType\": \"list\"}, {\"name\": \"path\", \"type\": \"str\", \"fullType\": \"str\"}, {\"name\": \"result\", \"type\": \"dict\", \"fullType\": \"dict\"}, {\"name\": \"selfharm_eval\", \"type\": \"SelfHarmEvaluator\", \"fullType\": \"azure.ai.evaluation._evaluators._content_safety._self_harm.SelfHarmEvaluator\"}, {\"name\": \"sexual_eval\", \"type\": \"SexualEvaluator\", \"fullType\": \"azure.ai.evaluation._evaluators._content_safety._sexual.SexualEvaluator\"}, {\"name\": \"should_cleanup\", \"type\": \"bool\", \"fullType\": \"bool\"}, {\"name\": \"simulator\", \"type\": \"Simulator\", \"fullType\": \"azure.ai.evaluation.simulator._simulator.Simulator\"}, {\"name\": \"token\", \"type\": \"str\", \"fullType\": \"str\"}, {\"name\": \"token_provider\", \"type\": \"function\", \"fullType\": \"function\"}, {\"name\": \"violence_eval\", \"type\": \"ViolenceEvaluator\", \"fullType\": \"azure.ai.evaluation._evaluators._content_safety._violence.ViolenceEvaluator\"}]\n",
      "[{\"name\": \"Any\", \"type\": \"_AnyMeta\", \"fullType\": \"typing._AnyMeta\"}, {\"name\": \"AzureOpenAI\", \"type\": \"type\", \"fullType\": \"type\"}, {\"name\": \"CoherenceEvaluator\", \"type\": \"ABCMeta\", \"fullType\": \"abc.ABCMeta\"}, {\"name\": \"DefaultAzureCredential\", \"type\": \"type\", \"fullType\": \"type\"}, {\"name\": \"Dict\", \"type\": \"_SpecialGenericAlias\", \"fullType\": \"typing._SpecialGenericAlias\"}, {\"name\": \"FluencyEvaluator\", \"type\": \"ABCMeta\", \"fullType\": \"abc.ABCMeta\"}, {\"name\": \"HateUnfairnessEvaluator\", \"type\": \"ABCMeta\", \"fullType\": \"abc.ABCMeta\"}, {\"name\": \"List\", \"type\": \"_SpecialGenericAlias\", \"fullType\": \"typing._SpecialGenericAlias\"}, {\"name\": \"Optional\", \"type\": \"_SpecialForm\", \"fullType\": \"typing._SpecialForm\"}, {\"name\": \"SelfHarmEvaluator\", \"type\": \"ABCMeta\", \"fullType\": \"abc.ABCMeta\"}, {\"name\": \"SexualEvaluator\", \"type\": \"ABCMeta\", \"fullType\": \"abc.ABCMeta\"}, {\"name\": \"Simulator\", \"type\": \"type\", \"fullType\": \"type\"}, {\"name\": \"ViolenceEvaluator\", \"type\": \"ABCMeta\", \"fullType\": \"abc.ABCMeta\"}, {\"name\": \"azure\", \"type\": \"module\", \"fullType\": \"module\"}, {\"name\": \"azure_ai_project\", \"type\": \"dict\", \"fullType\": \"dict\"}, {\"name\": \"call_to_your_ai_application\", \"type\": \"function\", \"fullType\": \"function\"}, {\"name\": \"callback\", \"type\": \"function\", \"fullType\": \"function\"}, {\"name\": \"coherence_eval\", \"type\": \"CoherenceEvaluator\", \"fullType\": \"azure.ai.evaluation._evaluators._coherence._coherence.CoherenceEvaluator\"}, {\"name\": \"conversation_turns\", \"type\": \"list\", \"fullType\": \"list\"}, {\"name\": \"convert_conversations_to_jsonl\", \"type\": \"function\", \"fullType\": \"function\"}, {\"name\": \"credential\", \"type\": \"DefaultAzureCredential\", \"fullType\": \"azure.identity._credentials.default.DefaultAzureCredential\"}, {\"name\": \"evaluate\", \"type\": \"function\", \"fullType\": \"function\"}, {\"name\": \"f\", \"type\": \"TextIOWrapper\", \"fullType\": \"_io.TextIOWrapper\"}, {\"name\": \"fluency_eval\", \"type\": \"FluencyEvaluator\", \"fullType\": \"azure.ai.evaluation._evaluators._fluency._fluency.FluencyEvaluator\"}, {\"name\": \"hateunfairness_eval\", \"type\": \"HateUnfairnessEvaluator\", \"fullType\": \"azure.ai.evaluation._evaluators._content_safety._hate_unfairness.HateUnfairnessEvaluator\"}, {\"name\": \"json\", \"type\": \"module\", \"fullType\": \"module\"}, {\"name\": \"json_data\", \"type\": \"str\", \"fullType\": \"str\"}, {\"name\": \"jsonl_output\", \"type\": \"str\", \"fullType\": \"str\"}, {\"name\": \"load_dotenv\", \"type\": \"function\", \"fullType\": \"function\"}, {\"name\": \"model_config\", \"type\": \"dict\", \"fullType\": \"dict\"}, {\"name\": \"os\", \"type\": \"module\", \"fullType\": \"module\"}, {\"name\": \"outputs\", \"type\": \"list\", \"fullType\": \"list\"}, {\"name\": \"path\", \"type\": \"str\", \"fullType\": \"str\"}, {\"name\": \"result\", \"type\": \"dict\", \"fullType\": \"dict\"}, {\"name\": \"selfharm_eval\", \"type\": \"SelfHarmEvaluator\", \"fullType\": \"azure.ai.evaluation._evaluators._content_safety._self_harm.SelfHarmEvaluator\"}, {\"name\": \"sexual_eval\", \"type\": \"SexualEvaluator\", \"fullType\": \"azure.ai.evaluation._evaluators._content_safety._sexual.SexualEvaluator\"}, {\"name\": \"should_cleanup\", \"type\": \"bool\", \"fullType\": \"bool\"}, {\"name\": \"simulator\", \"type\": \"Simulator\", \"fullType\": \"azure.ai.evaluation.simulator._simulator.Simulator\"}, {\"name\": \"token\", \"type\": \"str\", \"fullType\": \"str\"}, {\"name\": \"token_provider\", \"type\": \"function\", \"fullType\": \"function\"}, {\"name\": \"violence_eval\", \"type\": \"ViolenceEvaluator\", \"fullType\": \"azure.ai.evaluation._evaluators._content_safety._violence.ViolenceEvaluator\"}]\n",
      "[{\"name\": \"Any\", \"type\": \"_AnyMeta\", \"fullType\": \"typing._AnyMeta\"}, {\"name\": \"AzureOpenAI\", \"type\": \"type\", \"fullType\": \"type\"}, {\"name\": \"CoherenceEvaluator\", \"type\": \"ABCMeta\", \"fullType\": \"abc.ABCMeta\"}, {\"name\": \"DefaultAzureCredential\", \"type\": \"type\", \"fullType\": \"type\"}, {\"name\": \"Dict\", \"type\": \"_SpecialGenericAlias\", \"fullType\": \"typing._SpecialGenericAlias\"}, {\"name\": \"FluencyEvaluator\", \"type\": \"ABCMeta\", \"fullType\": \"abc.ABCMeta\"}, {\"name\": \"HateUnfairnessEvaluator\", \"type\": \"ABCMeta\", \"fullType\": \"abc.ABCMeta\"}, {\"name\": \"List\", \"type\": \"_SpecialGenericAlias\", \"fullType\": \"typing._SpecialGenericAlias\"}, {\"name\": \"Optional\", \"type\": \"_SpecialForm\", \"fullType\": \"typing._SpecialForm\"}, {\"name\": \"SelfHarmEvaluator\", \"type\": \"ABCMeta\", \"fullType\": \"abc.ABCMeta\"}, {\"name\": \"SexualEvaluator\", \"type\": \"ABCMeta\", \"fullType\": \"abc.ABCMeta\"}, {\"name\": \"Simulator\", \"type\": \"type\", \"fullType\": \"type\"}, {\"name\": \"ViolenceEvaluator\", \"type\": \"ABCMeta\", \"fullType\": \"abc.ABCMeta\"}, {\"name\": \"azure\", \"type\": \"module\", \"fullType\": \"module\"}, {\"name\": \"azure_ai_project\", \"type\": \"dict\", \"fullType\": \"dict\"}, {\"name\": \"call_to_your_ai_application\", \"type\": \"function\", \"fullType\": \"function\"}, {\"name\": \"callback\", \"type\": \"function\", \"fullType\": \"function\"}, {\"name\": \"coherence_eval\", \"type\": \"CoherenceEvaluator\", \"fullType\": \"azure.ai.evaluation._evaluators._coherence._coherence.CoherenceEvaluator\"}, {\"name\": \"conversation_turns\", \"type\": \"list\", \"fullType\": \"list\"}, {\"name\": \"convert_conversations_to_jsonl\", \"type\": \"function\", \"fullType\": \"function\"}, {\"name\": \"credential\", \"type\": \"DefaultAzureCredential\", \"fullType\": \"azure.identity._credentials.default.DefaultAzureCredential\"}, {\"name\": \"evaluate\", \"type\": \"function\", \"fullType\": \"function\"}, {\"name\": \"f\", \"type\": \"TextIOWrapper\", \"fullType\": \"_io.TextIOWrapper\"}, {\"name\": \"fluency_eval\", \"type\": \"FluencyEvaluator\", \"fullType\": \"azure.ai.evaluation._evaluators._fluency._fluency.FluencyEvaluator\"}, {\"name\": \"hateunfairness_eval\", \"type\": \"HateUnfairnessEvaluator\", \"fullType\": \"azure.ai.evaluation._evaluators._content_safety._hate_unfairness.HateUnfairnessEvaluator\"}, {\"name\": \"json\", \"type\": \"module\", \"fullType\": \"module\"}, {\"name\": \"json_data\", \"type\": \"str\", \"fullType\": \"str\"}, {\"name\": \"jsonl_output\", \"type\": \"str\", \"fullType\": \"str\"}, {\"name\": \"load_dotenv\", \"type\": \"function\", \"fullType\": \"function\"}, {\"name\": \"model_config\", \"type\": \"dict\", \"fullType\": \"dict\"}, {\"name\": \"os\", \"type\": \"module\", \"fullType\": \"module\"}, {\"name\": \"outputs\", \"type\": \"list\", \"fullType\": \"list\"}, {\"name\": \"path\", \"type\": \"str\", \"fullType\": \"str\"}, {\"name\": \"result\", \"type\": \"dict\", \"fullType\": \"dict\"}, {\"name\": \"selfharm_eval\", \"type\": \"SelfHarmEvaluator\", \"fullType\": \"azure.ai.evaluation._evaluators._content_safety._self_harm.SelfHarmEvaluator\"}, {\"name\": \"sexual_eval\", \"type\": \"SexualEvaluator\", \"fullType\": \"azure.ai.evaluation._evaluators._content_safety._sexual.SexualEvaluator\"}, {\"name\": \"should_cleanup\", \"type\": \"bool\", \"fullType\": \"bool\"}, {\"name\": \"simulator\", \"type\": \"Simulator\", \"fullType\": \"azure.ai.evaluation.simulator._simulator.Simulator\"}, {\"name\": \"token\", \"type\": \"str\", \"fullType\": \"str\"}, {\"name\": \"token_provider\", \"type\": \"function\", \"fullType\": \"function\"}, {\"name\": \"violence_eval\", \"type\": \"ViolenceEvaluator\", \"fullType\": \"azure.ai.evaluation._evaluators._content_safety._violence.ViolenceEvaluator\"}]\n"
     ]
    }
   ],
   "source": [
    "result = evaluate(\n",
    "    data=path,\n",
    "    evaluators={\n",
    "        \"coherence\": coherence_eval,\n",
    "        \"fluency\": fluency_eval,\n",
    "        \"violence\": violence_eval,\n",
    "        \"hate_unfairness\": hateunfairness_eval,\n",
    "        \"sexual\": sexual_eval,\n",
    "        \"self_harm\": selfharm_eval\n",
    "    },\n",
    "    # column mapping\n",
    "    evaluator_config={\n",
    "        \"default\": {\n",
    "            \"query\": \"${data.query}\",\n",
    "            \"response\": \"${data.response}\",\n",
    "            \"context\": \"${data.context}\",\n",
    "            \"ground_truth\": \"${data.ground_truth}\"\n",
    "        }\n",
    "    },\n",
    "    azure_ai_project = azure_ai_project\n",
    ")"
   ]
  },
  {
   "cell_type": "markdown",
   "metadata": {},
   "source": [
    "## View the results in Azure AI Foundry\n",
    "\n",
    "Now that the evaluation is complete, you can navigate to the **Evaluation** section of the Azure AI Foundry to view the results. Alternatively, you can output a link to the evaluation location using the `studio_url` returned from running `evaluate`."
   ]
  },
  {
   "cell_type": "code",
   "execution_count": 16,
   "metadata": {},
   "outputs": [],
   "source": [
    "print(result['studio_url'])"
   ]
  }
 ],
 "metadata": {
  "kernelspec": {
   "display_name": "Python 3",
   "language": "python",
   "name": "python3"
  },
  "language_info": {
   "codemirror_mode": {
    "name": "ipython",
    "version": 3
   },
   "file_extension": ".py",
   "mimetype": "text/x-python",
   "name": "python",
   "nbconvert_exporter": "python",
   "pygments_lexer": "ipython3",
   "version": "3.11.12"
  }
 },
 "nbformat": 4,
 "nbformat_minor": 2
}
