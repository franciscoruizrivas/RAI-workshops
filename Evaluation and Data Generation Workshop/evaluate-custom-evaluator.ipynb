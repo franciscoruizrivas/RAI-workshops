{
 "cells": [
  {
   "cell_type": "markdown",
   "metadata": {},
   "source": [
    "## Evaluate Using a Custom Evaluator\n",
    "\n",
    "Contoso Airways is developing a customer support chatbot to assist customers with managing their flight reservations, offering real-time help with booking changes, cancellations, and seat selection. The AI-powered chatbot is designed to provide quick, accurate responses, streamlining the travel experience and reducing wait times for customer service inquiries.\n",
    "\n",
    "In this exercise, you will assess the friendliness of the customer support chatbot based on how the model responds during a customer interaction."
   ]
  },
  {
   "cell_type": "markdown",
   "metadata": {},
   "source": [
    "## Add environment variables to the .env file\n",
    "\n",
    "In the root of the **Evaluation and Data Generation Workshop** folder is an `.env` file. Within the `.env` file, fill in the values for the environment variables. You can locate the values for each environment variable in the following locations of the [Azure AI Foundry](https://ai.azure.com) portal:\n",
    "\n",
    "- `AZURE_SUBSCRIPTION_ID` - On the **Overview** page of your project within **Project details**.\n",
    "- `AZURE_AI_PROJECT_NAME` - At the top of the **Overview** page for your project.\n",
    "- `AZURE_OPENAI_RESOURCE_GROUP` - On the **Overview** page of the **Management Center** within **Project properties**.\n",
    "- `AZURE_OPENAI_SERVICE` - On the **Overview** page of your project in the **Included capabilities** tab for **Azure OpenAI Service**.\n",
    "- `AZURE_OPENAI_API_VERSION` - On the [API version lifecycle](https://learn.microsoft.com/azure/ai-services/openai/api-version-deprecation#latest-ga-api-release) webpage within the **Latest GA API release** section.\n",
    "- `AZURE_OPENAI_ENDPOINT` - On the **Details** tab of your model deployment within **Endpoint** (i.e. **Target URI**)\n",
    "- `AZURE_OPENAI_DEPLOYMENT_NAME` -  On the **Details** tab of your model deployment within **Deployment info**."
   ]
  },
  {
   "cell_type": "markdown",
   "metadata": {},
   "source": [
    "# Sign in to Azure\n",
    "\n",
    "As a security best practice, we'll use [keyless authentication](https://learn.microsoft.com/azure/developer/ai/keyless-connections?tabs=csharp%2Cazure-cli) to authenticate to Azure OpenAI with Microsoft Entra ID. Before you can do so, you'll first need to install the **Azure CLI** per the [installation instructions](https://learn.microsoft.com/cli/azure/install-azure-cli) for your operating system.\n",
    "\n",
    "Next, open a terminal and run `az login` to sign in to your Azure account."
   ]
  },
  {
   "cell_type": "markdown",
   "metadata": {},
   "source": [
    "## Install the package\n",
    "\n",
    "We'll need to load the Prompty file using the `load_flow` function which is available in the `promptflow.client` package. We'll begin by installing the package."
   ]
  },
  {
   "cell_type": "code",
   "execution_count": 1,
   "metadata": {},
   "outputs": [
    {
     "name": "stdout",
     "output_type": "stream",
     "text": [
      "Defaulting to user installation because normal site-packages is not writeable\n",
      "Collecting promptflow\n",
      "  Downloading promptflow-1.18.1-py3-none-any.whl.metadata (28 kB)\n",
      "Requirement already satisfied: promptflow-tracing==1.18.1 in /home/vscode/.local/lib/python3.11/site-packages (from promptflow) (1.18.1)\n",
      "Requirement already satisfied: promptflow-core==1.18.1 in /home/vscode/.local/lib/python3.11/site-packages (from promptflow) (1.18.1)\n",
      "Requirement already satisfied: promptflow-devkit==1.18.1 in /home/vscode/.local/lib/python3.11/site-packages (from promptflow) (1.18.1)\n",
      "Requirement already satisfied: docstring_parser in /home/vscode/.local/lib/python3.11/site-packages (from promptflow-core==1.18.1->promptflow) (0.16)\n",
      "Requirement already satisfied: fastapi<1.0.0,>=0.109.0 in /home/vscode/.local/lib/python3.11/site-packages (from promptflow-core==1.18.1->promptflow) (0.115.14)\n",
      "Requirement already satisfied: filetype>=1.2.0 in /home/vscode/.local/lib/python3.11/site-packages (from promptflow-core==1.18.1->promptflow) (1.2.0)\n",
      "Requirement already satisfied: flask<4.0.0,>=2.2.3 in /home/vscode/.local/lib/python3.11/site-packages (from promptflow-core==1.18.1->promptflow) (3.1.1)\n",
      "Requirement already satisfied: jsonschema<5.0.0,>=4.0.0 in /home/vscode/.local/lib/python3.11/site-packages (from promptflow-core==1.18.1->promptflow) (4.24.0)\n",
      "Requirement already satisfied: psutil in /home/vscode/.local/lib/python3.11/site-packages (from promptflow-core==1.18.1->promptflow) (7.0.0)\n",
      "Requirement already satisfied: python-dateutil<3.0.0,>=2.1.0 in /home/vscode/.local/lib/python3.11/site-packages (from promptflow-core==1.18.1->promptflow) (2.9.0.post0)\n",
      "Requirement already satisfied: ruamel.yaml<1.0.0,>=0.17.10 in /home/vscode/.local/lib/python3.11/site-packages (from promptflow-core==1.18.1->promptflow) (0.18.14)\n",
      "Requirement already satisfied: argcomplete>=3.2.3 in /home/vscode/.local/lib/python3.11/site-packages (from promptflow-devkit==1.18.1->promptflow) (3.6.2)\n",
      "Requirement already satisfied: azure-monitor-opentelemetry-exporter<2.0.0,>=1.0.0b21 in /home/vscode/.local/lib/python3.11/site-packages (from promptflow-devkit==1.18.1->promptflow) (1.0.0b39)\n",
      "Requirement already satisfied: colorama<0.5.0,>=0.4.6 in /home/vscode/.local/lib/python3.11/site-packages (from promptflow-devkit==1.18.1->promptflow) (0.4.6)\n",
      "Requirement already satisfied: cryptography>=42.0.4 in /home/vscode/.local/lib/python3.11/site-packages (from promptflow-devkit==1.18.1->promptflow) (45.0.5)\n",
      "Requirement already satisfied: filelock<4.0.0,>=3.4.0 in /home/vscode/.local/lib/python3.11/site-packages (from promptflow-devkit==1.18.1->promptflow) (3.18.0)\n",
      "Requirement already satisfied: flask-cors<7.0.0,>=6.0.0 in /home/vscode/.local/lib/python3.11/site-packages (from promptflow-devkit==1.18.1->promptflow) (6.0.1)\n",
      "Requirement already satisfied: flask-restx<2.0.0,>=1.2.0 in /home/vscode/.local/lib/python3.11/site-packages (from promptflow-devkit==1.18.1->promptflow) (1.3.0)\n",
      "Requirement already satisfied: gitpython<4.0.0,>=3.1.24 in /usr/local/lib/python3.11/site-packages (from promptflow-devkit==1.18.1->promptflow) (3.1.41)\n",
      "Requirement already satisfied: httpx>=0.25.1 in /home/vscode/.local/lib/python3.11/site-packages (from promptflow-devkit==1.18.1->promptflow) (0.28.1)\n",
      "Requirement already satisfied: keyring<25.0.0,>=24.2.0 in /home/vscode/.local/lib/python3.11/site-packages (from promptflow-devkit==1.18.1->promptflow) (24.3.1)\n",
      "Requirement already satisfied: marshmallow<4.0.0,>=3.5 in /home/vscode/.local/lib/python3.11/site-packages (from promptflow-devkit==1.18.1->promptflow) (3.26.1)\n",
      "Requirement already satisfied: opentelemetry-exporter-otlp-proto-http<2.0.0,>=1.22.0 in /home/vscode/.local/lib/python3.11/site-packages (from promptflow-devkit==1.18.1->promptflow) (1.34.1)\n",
      "Requirement already satisfied: pandas<3.0.0,>=1.5.3 in /home/vscode/.local/lib/python3.11/site-packages (from promptflow-devkit==1.18.1->promptflow) (2.3.0)\n",
      "Requirement already satisfied: pillow<11.1.0,>=10.1.0 in /home/vscode/.local/lib/python3.11/site-packages (from promptflow-devkit==1.18.1->promptflow) (11.0.0)\n",
      "Requirement already satisfied: pydash<8.0.0,>=6.0.0 in /home/vscode/.local/lib/python3.11/site-packages (from promptflow-devkit==1.18.1->promptflow) (7.0.7)\n",
      "Requirement already satisfied: python-dotenv<2.0.0,>=1.0.0 in /home/vscode/.local/lib/python3.11/site-packages (from promptflow-devkit==1.18.1->promptflow) (1.1.1)\n",
      "Requirement already satisfied: sqlalchemy<3.0.0,>=1.4.48 in /home/vscode/.local/lib/python3.11/site-packages (from promptflow-devkit==1.18.1->promptflow) (2.0.41)\n",
      "Requirement already satisfied: strictyaml<2.0.0,>=1.5.0 in /home/vscode/.local/lib/python3.11/site-packages (from promptflow-devkit==1.18.1->promptflow) (1.7.3)\n",
      "Requirement already satisfied: tabulate<1.0.0,>=0.9.0 in /home/vscode/.local/lib/python3.11/site-packages (from promptflow-devkit==1.18.1->promptflow) (0.9.0)\n",
      "Requirement already satisfied: waitress<4.0.0,>=3.0.0 in /home/vscode/.local/lib/python3.11/site-packages (from promptflow-devkit==1.18.1->promptflow) (3.0.2)\n",
      "Requirement already satisfied: openai in /home/vscode/.local/lib/python3.11/site-packages (from promptflow-tracing==1.18.1->promptflow) (1.93.0)\n",
      "Requirement already satisfied: opentelemetry-sdk<2.0.0,>=1.22.0 in /home/vscode/.local/lib/python3.11/site-packages (from promptflow-tracing==1.18.1->promptflow) (1.34.1)\n",
      "Requirement already satisfied: tiktoken>=0.4.0 in /home/vscode/.local/lib/python3.11/site-packages (from promptflow-tracing==1.18.1->promptflow) (0.9.0)\n",
      "Requirement already satisfied: azure-core<2.0.0,>=1.28.0 in /home/vscode/.local/lib/python3.11/site-packages (from azure-monitor-opentelemetry-exporter<2.0.0,>=1.0.0b21->promptflow-devkit==1.18.1->promptflow) (1.35.0)\n",
      "Requirement already satisfied: azure-identity~=1.17 in /home/vscode/.local/lib/python3.11/site-packages (from azure-monitor-opentelemetry-exporter<2.0.0,>=1.0.0b21->promptflow-devkit==1.18.1->promptflow) (1.23.0)\n",
      "Requirement already satisfied: fixedint==0.1.6 in /home/vscode/.local/lib/python3.11/site-packages (from azure-monitor-opentelemetry-exporter<2.0.0,>=1.0.0b21->promptflow-devkit==1.18.1->promptflow) (0.1.6)\n",
      "Requirement already satisfied: msrest>=0.6.10 in /home/vscode/.local/lib/python3.11/site-packages (from azure-monitor-opentelemetry-exporter<2.0.0,>=1.0.0b21->promptflow-devkit==1.18.1->promptflow) (0.7.1)\n",
      "Requirement already satisfied: opentelemetry-api~=1.26 in /home/vscode/.local/lib/python3.11/site-packages (from azure-monitor-opentelemetry-exporter<2.0.0,>=1.0.0b21->promptflow-devkit==1.18.1->promptflow) (1.34.1)\n",
      "Requirement already satisfied: cffi>=1.14 in /home/vscode/.local/lib/python3.11/site-packages (from cryptography>=42.0.4->promptflow-devkit==1.18.1->promptflow) (1.17.1)\n",
      "Requirement already satisfied: starlette<0.47.0,>=0.40.0 in /home/vscode/.local/lib/python3.11/site-packages (from fastapi<1.0.0,>=0.109.0->promptflow-core==1.18.1->promptflow) (0.46.2)\n",
      "Requirement already satisfied: pydantic!=1.8,!=1.8.1,!=2.0.0,!=2.0.1,!=2.1.0,<3.0.0,>=1.7.4 in /home/vscode/.local/lib/python3.11/site-packages (from fastapi<1.0.0,>=0.109.0->promptflow-core==1.18.1->promptflow) (2.11.7)\n",
      "Requirement already satisfied: typing-extensions>=4.8.0 in /home/vscode/.local/lib/python3.11/site-packages (from fastapi<1.0.0,>=0.109.0->promptflow-core==1.18.1->promptflow) (4.14.0)\n",
      "Requirement already satisfied: blinker>=1.9.0 in /home/vscode/.local/lib/python3.11/site-packages (from flask<4.0.0,>=2.2.3->promptflow-core==1.18.1->promptflow) (1.9.0)\n",
      "Requirement already satisfied: click>=8.1.3 in /home/vscode/.local/lib/python3.11/site-packages (from flask<4.0.0,>=2.2.3->promptflow-core==1.18.1->promptflow) (8.2.1)\n",
      "Requirement already satisfied: itsdangerous>=2.2.0 in /home/vscode/.local/lib/python3.11/site-packages (from flask<4.0.0,>=2.2.3->promptflow-core==1.18.1->promptflow) (2.2.0)\n",
      "Requirement already satisfied: jinja2>=3.1.2 in /home/vscode/.local/lib/python3.11/site-packages (from flask<4.0.0,>=2.2.3->promptflow-core==1.18.1->promptflow) (3.1.6)\n",
      "Requirement already satisfied: markupsafe>=2.1.1 in /home/vscode/.local/lib/python3.11/site-packages (from flask<4.0.0,>=2.2.3->promptflow-core==1.18.1->promptflow) (3.0.2)\n",
      "Requirement already satisfied: werkzeug>=3.1.0 in /home/vscode/.local/lib/python3.11/site-packages (from flask<4.0.0,>=2.2.3->promptflow-core==1.18.1->promptflow) (3.1.3)\n",
      "Requirement already satisfied: aniso8601>=0.82 in /home/vscode/.local/lib/python3.11/site-packages (from flask-restx<2.0.0,>=1.2.0->promptflow-devkit==1.18.1->promptflow) (10.0.1)\n",
      "Requirement already satisfied: pytz in /home/vscode/.local/lib/python3.11/site-packages (from flask-restx<2.0.0,>=1.2.0->promptflow-devkit==1.18.1->promptflow) (2025.2)\n",
      "Requirement already satisfied: importlib-resources in /home/vscode/.local/lib/python3.11/site-packages (from flask-restx<2.0.0,>=1.2.0->promptflow-devkit==1.18.1->promptflow) (6.5.2)\n",
      "Requirement already satisfied: gitdb<5,>=4.0.1 in /usr/local/lib/python3.11/site-packages (from gitpython<4.0.0,>=3.1.24->promptflow-devkit==1.18.1->promptflow) (4.0.12)\n",
      "Requirement already satisfied: anyio in /home/vscode/.local/lib/python3.11/site-packages (from httpx>=0.25.1->promptflow-devkit==1.18.1->promptflow) (4.9.0)\n",
      "Requirement already satisfied: certifi in /home/vscode/.local/lib/python3.11/site-packages (from httpx>=0.25.1->promptflow-devkit==1.18.1->promptflow) (2025.6.15)\n",
      "Requirement already satisfied: httpcore==1.* in /home/vscode/.local/lib/python3.11/site-packages (from httpx>=0.25.1->promptflow-devkit==1.18.1->promptflow) (1.0.9)\n",
      "Requirement already satisfied: idna in /home/vscode/.local/lib/python3.11/site-packages (from httpx>=0.25.1->promptflow-devkit==1.18.1->promptflow) (3.10)\n",
      "Requirement already satisfied: h11>=0.16 in /home/vscode/.local/lib/python3.11/site-packages (from httpcore==1.*->httpx>=0.25.1->promptflow-devkit==1.18.1->promptflow) (0.16.0)\n",
      "Requirement already satisfied: attrs>=22.2.0 in /home/vscode/.local/lib/python3.11/site-packages (from jsonschema<5.0.0,>=4.0.0->promptflow-core==1.18.1->promptflow) (25.3.0)\n",
      "Requirement already satisfied: jsonschema-specifications>=2023.03.6 in /home/vscode/.local/lib/python3.11/site-packages (from jsonschema<5.0.0,>=4.0.0->promptflow-core==1.18.1->promptflow) (2025.4.1)\n",
      "Requirement already satisfied: referencing>=0.28.4 in /home/vscode/.local/lib/python3.11/site-packages (from jsonschema<5.0.0,>=4.0.0->promptflow-core==1.18.1->promptflow) (0.36.2)\n",
      "Requirement already satisfied: rpds-py>=0.7.1 in /home/vscode/.local/lib/python3.11/site-packages (from jsonschema<5.0.0,>=4.0.0->promptflow-core==1.18.1->promptflow) (0.26.0)\n",
      "Requirement already satisfied: jaraco.classes in /home/vscode/.local/lib/python3.11/site-packages (from keyring<25.0.0,>=24.2.0->promptflow-devkit==1.18.1->promptflow) (3.4.0)\n",
      "Requirement already satisfied: importlib-metadata>=4.11.4 in /home/vscode/.local/lib/python3.11/site-packages (from keyring<25.0.0,>=24.2.0->promptflow-devkit==1.18.1->promptflow) (8.7.0)\n",
      "Requirement already satisfied: SecretStorage>=3.2 in /home/vscode/.local/lib/python3.11/site-packages (from keyring<25.0.0,>=24.2.0->promptflow-devkit==1.18.1->promptflow) (3.3.3)\n",
      "Requirement already satisfied: jeepney>=0.4.2 in /home/vscode/.local/lib/python3.11/site-packages (from keyring<25.0.0,>=24.2.0->promptflow-devkit==1.18.1->promptflow) (0.9.0)\n",
      "Requirement already satisfied: packaging>=17.0 in /home/vscode/.local/lib/python3.11/site-packages (from marshmallow<4.0.0,>=3.5->promptflow-devkit==1.18.1->promptflow) (25.0)\n",
      "Requirement already satisfied: googleapis-common-protos~=1.52 in /home/vscode/.local/lib/python3.11/site-packages (from opentelemetry-exporter-otlp-proto-http<2.0.0,>=1.22.0->promptflow-devkit==1.18.1->promptflow) (1.70.0)\n",
      "Requirement already satisfied: opentelemetry-exporter-otlp-proto-common==1.34.1 in /home/vscode/.local/lib/python3.11/site-packages (from opentelemetry-exporter-otlp-proto-http<2.0.0,>=1.22.0->promptflow-devkit==1.18.1->promptflow) (1.34.1)\n",
      "Requirement already satisfied: opentelemetry-proto==1.34.1 in /home/vscode/.local/lib/python3.11/site-packages (from opentelemetry-exporter-otlp-proto-http<2.0.0,>=1.22.0->promptflow-devkit==1.18.1->promptflow) (1.34.1)\n",
      "Requirement already satisfied: requests~=2.7 in /home/vscode/.local/lib/python3.11/site-packages (from opentelemetry-exporter-otlp-proto-http<2.0.0,>=1.22.0->promptflow-devkit==1.18.1->promptflow) (2.32.4)\n",
      "Requirement already satisfied: protobuf<6.0,>=5.0 in /home/vscode/.local/lib/python3.11/site-packages (from opentelemetry-proto==1.34.1->opentelemetry-exporter-otlp-proto-http<2.0.0,>=1.22.0->promptflow-devkit==1.18.1->promptflow) (5.29.5)\n",
      "Requirement already satisfied: opentelemetry-semantic-conventions==0.55b1 in /home/vscode/.local/lib/python3.11/site-packages (from opentelemetry-sdk<2.0.0,>=1.22.0->promptflow-tracing==1.18.1->promptflow) (0.55b1)\n",
      "Requirement already satisfied: numpy>=1.23.2 in /home/vscode/.local/lib/python3.11/site-packages (from pandas<3.0.0,>=1.5.3->promptflow-devkit==1.18.1->promptflow) (2.3.1)\n",
      "Requirement already satisfied: tzdata>=2022.7 in /home/vscode/.local/lib/python3.11/site-packages (from pandas<3.0.0,>=1.5.3->promptflow-devkit==1.18.1->promptflow) (2025.2)\n",
      "Requirement already satisfied: six>=1.5 in /home/vscode/.local/lib/python3.11/site-packages (from python-dateutil<3.0.0,>=2.1.0->promptflow-core==1.18.1->promptflow) (1.17.0)\n",
      "Requirement already satisfied: ruamel.yaml.clib>=0.2.7 in /home/vscode/.local/lib/python3.11/site-packages (from ruamel.yaml<1.0.0,>=0.17.10->promptflow-core==1.18.1->promptflow) (0.2.12)\n",
      "Requirement already satisfied: greenlet>=1 in /home/vscode/.local/lib/python3.11/site-packages (from sqlalchemy<3.0.0,>=1.4.48->promptflow-devkit==1.18.1->promptflow) (3.2.3)\n",
      "Requirement already satisfied: regex>=2022.1.18 in /home/vscode/.local/lib/python3.11/site-packages (from tiktoken>=0.4.0->promptflow-tracing==1.18.1->promptflow) (2024.11.6)\n",
      "Requirement already satisfied: distro<2,>=1.7.0 in /home/vscode/.local/lib/python3.11/site-packages (from openai->promptflow-tracing==1.18.1->promptflow) (1.9.0)\n",
      "Requirement already satisfied: jiter<1,>=0.4.0 in /home/vscode/.local/lib/python3.11/site-packages (from openai->promptflow-tracing==1.18.1->promptflow) (0.10.0)\n",
      "Requirement already satisfied: sniffio in /home/vscode/.local/lib/python3.11/site-packages (from openai->promptflow-tracing==1.18.1->promptflow) (1.3.1)\n",
      "Requirement already satisfied: tqdm>4 in /home/vscode/.local/lib/python3.11/site-packages (from openai->promptflow-tracing==1.18.1->promptflow) (4.67.1)\n",
      "Requirement already satisfied: msal>=1.30.0 in /home/vscode/.local/lib/python3.11/site-packages (from azure-identity~=1.17->azure-monitor-opentelemetry-exporter<2.0.0,>=1.0.0b21->promptflow-devkit==1.18.1->promptflow) (1.32.3)\n",
      "Requirement already satisfied: msal-extensions>=1.2.0 in /home/vscode/.local/lib/python3.11/site-packages (from azure-identity~=1.17->azure-monitor-opentelemetry-exporter<2.0.0,>=1.0.0b21->promptflow-devkit==1.18.1->promptflow) (1.3.1)\n",
      "Requirement already satisfied: pycparser in /home/vscode/.local/lib/python3.11/site-packages (from cffi>=1.14->cryptography>=42.0.4->promptflow-devkit==1.18.1->promptflow) (2.22)\n",
      "Requirement already satisfied: smmap<6,>=3.0.1 in /usr/local/lib/python3.11/site-packages (from gitdb<5,>=4.0.1->gitpython<4.0.0,>=3.1.24->promptflow-devkit==1.18.1->promptflow) (5.0.2)\n",
      "Requirement already satisfied: zipp>=3.20 in /home/vscode/.local/lib/python3.11/site-packages (from importlib-metadata>=4.11.4->keyring<25.0.0,>=24.2.0->promptflow-devkit==1.18.1->promptflow) (3.23.0)\n",
      "Requirement already satisfied: isodate>=0.6.0 in /home/vscode/.local/lib/python3.11/site-packages (from msrest>=0.6.10->azure-monitor-opentelemetry-exporter<2.0.0,>=1.0.0b21->promptflow-devkit==1.18.1->promptflow) (0.7.2)\n",
      "Requirement already satisfied: requests-oauthlib>=0.5.0 in /home/vscode/.local/lib/python3.11/site-packages (from msrest>=0.6.10->azure-monitor-opentelemetry-exporter<2.0.0,>=1.0.0b21->promptflow-devkit==1.18.1->promptflow) (2.0.0)\n",
      "Requirement already satisfied: annotated-types>=0.6.0 in /home/vscode/.local/lib/python3.11/site-packages (from pydantic!=1.8,!=1.8.1,!=2.0.0,!=2.0.1,!=2.1.0,<3.0.0,>=1.7.4->fastapi<1.0.0,>=0.109.0->promptflow-core==1.18.1->promptflow) (0.7.0)\n",
      "Requirement already satisfied: pydantic-core==2.33.2 in /home/vscode/.local/lib/python3.11/site-packages (from pydantic!=1.8,!=1.8.1,!=2.0.0,!=2.0.1,!=2.1.0,<3.0.0,>=1.7.4->fastapi<1.0.0,>=0.109.0->promptflow-core==1.18.1->promptflow) (2.33.2)\n",
      "Requirement already satisfied: typing-inspection>=0.4.0 in /home/vscode/.local/lib/python3.11/site-packages (from pydantic!=1.8,!=1.8.1,!=2.0.0,!=2.0.1,!=2.1.0,<3.0.0,>=1.7.4->fastapi<1.0.0,>=0.109.0->promptflow-core==1.18.1->promptflow) (0.4.1)\n",
      "Requirement already satisfied: charset_normalizer<4,>=2 in /home/vscode/.local/lib/python3.11/site-packages (from requests~=2.7->opentelemetry-exporter-otlp-proto-http<2.0.0,>=1.22.0->promptflow-devkit==1.18.1->promptflow) (3.4.2)\n",
      "Requirement already satisfied: urllib3<3,>=1.21.1 in /home/vscode/.local/lib/python3.11/site-packages (from requests~=2.7->opentelemetry-exporter-otlp-proto-http<2.0.0,>=1.22.0->promptflow-devkit==1.18.1->promptflow) (2.5.0)\n",
      "Requirement already satisfied: more-itertools in /home/vscode/.local/lib/python3.11/site-packages (from jaraco.classes->keyring<25.0.0,>=24.2.0->promptflow-devkit==1.18.1->promptflow) (10.7.0)\n",
      "Requirement already satisfied: PyJWT<3,>=1.0.0 in /home/vscode/.local/lib/python3.11/site-packages (from PyJWT[crypto]<3,>=1.0.0->msal>=1.30.0->azure-identity~=1.17->azure-monitor-opentelemetry-exporter<2.0.0,>=1.0.0b21->promptflow-devkit==1.18.1->promptflow) (2.10.1)\n",
      "Requirement already satisfied: oauthlib>=3.0.0 in /home/vscode/.local/lib/python3.11/site-packages (from requests-oauthlib>=0.5.0->msrest>=0.6.10->azure-monitor-opentelemetry-exporter<2.0.0,>=1.0.0b21->promptflow-devkit==1.18.1->promptflow) (3.3.1)\n",
      "Downloading promptflow-1.18.1-py3-none-any.whl (20 kB)\n",
      "Installing collected packages: promptflow\n",
      "Successfully installed promptflow-1.18.1\n",
      "\n",
      "\u001b[1m[\u001b[0m\u001b[34;49mnotice\u001b[0m\u001b[1;39;49m]\u001b[0m\u001b[39;49m A new release of pip is available: \u001b[0m\u001b[31;49m24.0\u001b[0m\u001b[39;49m -> \u001b[0m\u001b[32;49m25.1.1\u001b[0m\n",
      "\u001b[1m[\u001b[0m\u001b[34;49mnotice\u001b[0m\u001b[1;39;49m]\u001b[0m\u001b[39;49m To update, run: \u001b[0m\u001b[32;49mpip install --upgrade pip\u001b[0m\n",
      "Note: you may need to restart the kernel to use updated packages.\n"
     ]
    }
   ],
   "source": [
    "%pip install promptflow"
   ]
  },
  {
   "cell_type": "markdown",
   "metadata": {},
   "source": [
    "## Access the environment variables.\n",
    "\n",
    "We'll import `os` and `load_dotenv` so that you can access the environment variables."
   ]
  },
  {
   "cell_type": "code",
   "execution_count": 2,
   "metadata": {},
   "outputs": [
    {
     "data": {
      "text/plain": [
       "True"
      ]
     },
     "execution_count": 2,
     "metadata": {},
     "output_type": "execute_result"
    }
   ],
   "source": [
    "import os\n",
    "from dotenv import load_dotenv\n",
    "\n",
    "load_dotenv()"
   ]
  },
  {
   "cell_type": "markdown",
   "metadata": {},
   "source": [
    "## Setup keyless authentication\n",
    "\n",
    "Rather than hardcode your **key**, we'll use a keyless connection with Azure OpenAI."
   ]
  },
  {
   "cell_type": "code",
   "execution_count": 3,
   "metadata": {},
   "outputs": [],
   "source": [
    "import azure.identity\n",
    "\n",
    "credential = azure.identity.DefaultAzureCredential()\n",
    "token_provider = azure.identity.get_bearer_token_provider(credential, \"https://cognitiveservices.azure.com/.default\")\n",
    "\n",
    "token = token_provider()"
   ]
  },
  {
   "cell_type": "markdown",
   "metadata": {},
   "source": [
    "## Import promptflow\n",
    "\n",
    "We'll import `load_flow` from `promptflow` so that we can later load a flow and consume the flow object like a function by providing key-value arguments."
   ]
  },
  {
   "cell_type": "code",
   "execution_count": 4,
   "metadata": {},
   "outputs": [],
   "source": [
    "from promptflow.client import load_flow"
   ]
  },
  {
   "cell_type": "markdown",
   "metadata": {},
   "source": [
    "## Configure the model_config\n",
    "\n",
    "The `model_config` will be passed into `load_flow` when we later load the friendliness prompty. Let's configure the `model_config` with the following:\n",
    "\n",
    "- Azure OpenAI endpoint\n",
    "- Azure OpenAI key\n",
    "- Azure deployment"
   ]
  },
  {
   "cell_type": "code",
   "execution_count": 5,
   "metadata": {},
   "outputs": [],
   "source": [
    "model_config = {\n",
    "    \"azure_endpoint\": os.environ.get(\"AZURE_OPENAI_ENDPOINT\"),\n",
    "    \"api_key\": token,\n",
    "    \"azure_deployment\": os.environ.get(\"AZURE_OPENAI_DEPLOYMENT_NAME\")\n",
    "}"
   ]
  },
  {
   "cell_type": "markdown",
   "metadata": {},
   "source": [
    "## Create variables for the evaluation data\n",
    "\n",
    "Although we could assign the `query` and `response` strings within the call to the friendliness evaluator, we'll set them here in case you'd like to try different pairs. We've included an alternate response that could be tested by removing the `#` and commenting out the initial `response` variable. The alternate `response` provides the ability to test how the friendliness prompty scores different responses."
   ]
  },
  {
   "cell_type": "code",
   "execution_count": 6,
   "metadata": {},
   "outputs": [],
   "source": [
    "query = \"I've been on hold for 30 minutes just to ask about my luggage! This is ridiculous. Where is my bag?\"\n",
    "response = \"I apologize for the long wait time, that must have been frustrating. I understand you're concerned about your luggage. Let me help you locate it right away. Could you please provide your bag tag number or flight details so I can track it for you?\"\n",
    "# response = \"Your bag is currently at the airport.\""
   ]
  },
  {
   "cell_type": "markdown",
   "metadata": {},
   "source": [
    "## Load the custom evaluator and create a call to the Prompty\n",
    "\n",
    "You're now ready to load the `friendliness.prompty` file and create a call to the evaluator. Using `load_flow`, we'll load `friendliness.prompty` and pass in the `model` configuration.\n",
    "\n",
    "Next, we'll create a variable to store the score of the evaluation. To evaluate the data, we'll pass the `query` and `response` into the custom evaluator call."
   ]
  },
  {
   "cell_type": "code",
   "execution_count": 7,
   "metadata": {},
   "outputs": [],
   "source": [
    "friendliness_eval = load_flow(source=\"friendliness.prompty\", model={\"configuration\": model_config})\n",
    "friendliness_score = friendliness_eval(\n",
    "    query=query,\n",
    "    response=response\n",
    ")"
   ]
  },
  {
   "cell_type": "markdown",
   "metadata": {},
   "source": [
    "## Evaluate for friendliness\n",
    "\n",
    "You're now ready to run the evaluation! We'll pass the `friendliness_score` into a print statement to view the results."
   ]
  },
  {
   "cell_type": "code",
   "execution_count": 8,
   "metadata": {},
   "outputs": [
    {
     "name": "stdout",
     "output_type": "stream",
     "text": [
      "{\"score\": 5, \"explanation\": \"The response is very friendly, empathetic, and proactive in offering assistance to resolve the issue.\"}\n"
     ]
    }
   ],
   "source": [
    "print(friendliness_score)"
   ]
  },
  {
   "cell_type": "markdown",
   "metadata": {},
   "source": [
    "## Delete resources\n",
    "\n",
    "If you've finished exploring Azure AI Services, delete the Azure resource that you created during the workshop.\n",
    "\n",
    "**Note**: You may be prompted to delete your deployed model(s) before deleting the resource group."
   ]
  }
 ],
 "metadata": {
  "kernelspec": {
   "display_name": "Python 3",
   "language": "python",
   "name": "python3"
  },
  "language_info": {
   "codemirror_mode": {
    "name": "ipython",
    "version": 3
   },
   "file_extension": ".py",
   "mimetype": "text/x-python",
   "name": "python",
   "nbconvert_exporter": "python",
   "pygments_lexer": "ipython3",
   "version": "3.11.12"
  }
 },
 "nbformat": 4,
 "nbformat_minor": 2
}
